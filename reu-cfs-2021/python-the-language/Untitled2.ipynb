{
 "cells": [
  {
   "cell_type": "code",
   "execution_count": 2,
   "metadata": {},
   "outputs": [
    {
     "data": {
      "text/plain": [
       "3"
      ]
     },
     "execution_count": 2,
     "metadata": {},
     "output_type": "execute_result"
    }
   ],
   "source": [
    "x =3 \n",
    "class X:\n",
    "    x = x\n",
    "\n",
    "X.x"
   ]
  },
  {
   "cell_type": "code",
   "execution_count": 6,
   "metadata": {},
   "outputs": [
    {
     "data": {
      "text/plain": [
       "mappingproxy({'__dict__': <attribute '__dict__' of 'X' objects>,\n",
       "              '__doc__': None,\n",
       "              '__module__': '__main__',\n",
       "              '__weakref__': <attribute '__weakref__' of 'X' objects>,\n",
       "              'x': 3})"
      ]
     },
     "execution_count": 6,
     "metadata": {},
     "output_type": "execute_result"
    }
   ],
   "source": [
    "X.__dict__"
   ]
  },
  {
   "cell_type": "code",
   "execution_count": 8,
   "metadata": {},
   "outputs": [
    {
     "data": {
      "text/plain": [
       "function"
      ]
     },
     "execution_count": 8,
     "metadata": {},
     "output_type": "execute_result"
    }
   ],
   "source": [
    "def boom(n):\n",
    "    i = 2\n",
    "    if n>=0:\n",
    "        boom(n-1)\n",
    "    else:\n",
    "        pass\n",
    "\n",
    "boom.__class__"
   ]
  },
  {
   "cell_type": "code",
   "execution_count": 3,
   "metadata": {},
   "outputs": [
    {
     "ename": "AttributeError",
     "evalue": "type object 'MyClass' has no attribute 'mymethod'",
     "output_type": "error",
     "traceback": [
      "\u001b[0;31m---------------------------------------------------------------------------\u001b[0m",
      "\u001b[0;31mAttributeError\u001b[0m                            Traceback (most recent call last)",
      "\u001b[0;32m<ipython-input-3-428564606f8e>\u001b[0m in \u001b[0;36m<module>\u001b[0;34m()\u001b[0m\n\u001b[1;32m     10\u001b[0m     \u001b[0;32mreturn\u001b[0m \u001b[0mMyClass\u001b[0m\u001b[0;34m\u001b[0m\u001b[0m\n\u001b[1;32m     11\u001b[0m \u001b[0;34m\u001b[0m\u001b[0m\n\u001b[0;32m---> 12\u001b[0;31m \u001b[0mmy_defining_func\u001b[0m\u001b[0;34m(\u001b[0m\u001b[0;34m)\u001b[0m\u001b[0;34m.\u001b[0m\u001b[0mmymethod\u001b[0m\u001b[0;34m(\u001b[0m\u001b[0;34m)\u001b[0m\u001b[0;34m\u001b[0m\u001b[0m\n\u001b[0m",
      "\u001b[0;31mAttributeError\u001b[0m: type object 'MyClass' has no attribute 'mymethod'"
     ]
    }
   ],
   "source": [
    "\n",
    "def my_defining_func():\n",
    "    def mymethod(self):\n",
    "        return self.y\n",
    "    class MyClass(object):\n",
    "        nonlocal mymethod\n",
    "        mymethod = mymethod\n",
    "        y = 3\n",
    "        \n",
    "    return MyClass\n",
    "\n",
    "my_defining_func().mymethod()"
   ]
  },
  {
   "cell_type": "code",
   "execution_count": 6,
   "metadata": {},
   "outputs": [
    {
     "data": {
      "text/plain": [
       "2"
      ]
     },
     "execution_count": 6,
     "metadata": {},
     "output_type": "execute_result"
    }
   ],
   "source": [
    "# closure\n",
    "\n",
    "def addit_extreme(increment_amount):\n",
    "    def f(x):\n",
    "        return x + increment_amount\n",
    "    \n",
    "    return f\n",
    "\n",
    "addtwo = addit_extreme(2)\n",
    "addtwo(0)"
   ]
  },
  {
   "cell_type": "code",
   "execution_count": 15,
   "metadata": {},
   "outputs": [
    {
     "name": "stdout",
     "output_type": "stream",
     "text": [
      "3\n",
      "2\n",
      "1\n",
      "0\n",
      "0\n",
      "0\n",
      "-1\n",
      "-2\n",
      "-3\n",
      "UnboundLocalError\n",
      "hi(0)\n",
      "UnboundLocalError\n",
      "hello world\n",
      "hello world\n"
     ]
    }
   ],
   "source": [
    "def f(n):\n",
    "    i = n\n",
    "    def g(n):\n",
    "        nonlocal i\n",
    "        print(i)\n",
    "        i = -i\n",
    "    if i==0:\n",
    "        pass\n",
    "    else:\n",
    "        i = n-1\n",
    "        g(n)\n",
    "        f(n-1)\n",
    "    print(i)\n",
    "\n",
    "f(4)\n",
    "\n",
    "\n",
    "def h(n):\n",
    "    if n==0:\n",
    "        print(i)\n",
    "    else:\n",
    "        i = 3 \n",
    "        h(n-1)\n",
    "try:       \n",
    "    h(2)\n",
    "except UnboundLocalError:\n",
    "    print(\"UnboundLocalError\")\n",
    "\n",
    "def hi(n):\n",
    "    while n>=0:\n",
    "        if n==0:\n",
    "            print(i)\n",
    "            n = -1\n",
    "        else:\n",
    "            i = \"hello world\"\n",
    "            n -= 1\n",
    "\n",
    "print(\"hi(0)\")\n",
    "try:\n",
    "    hi(0)\n",
    "except UnboundLocalError:\n",
    "    print(\"UnboundLocalError\")\n",
    "hi(3)\n",
    "\n",
    "def m(x):\n",
    "    i = \"hello world\"\n",
    "    g = None # a place holder\n",
    "    def f(x):\n",
    "        nonlocal g\n",
    "        def g(x): # make g a function\n",
    "            nonlocal i\n",
    "            print(i)\n",
    "    f(x) # update the binding of g\n",
    "    g(x) # print i \n",
    "    \n",
    "m(2) # should be \"hello world\""
   ]
  },
  {
   "cell_type": "code",
   "execution_count": 17,
   "metadata": {},
   "outputs": [
    {
     "ename": "NameError",
     "evalue": "name 'i' is not defined",
     "output_type": "error",
     "traceback": [
      "\u001b[0;31m---------------------------------------------------------------------------\u001b[0m",
      "\u001b[0;31mNameError\u001b[0m                                 Traceback (most recent call last)",
      "\u001b[0;32m<ipython-input-17-76e55c5dfa7c>\u001b[0m in \u001b[0;36m<module>\u001b[0;34m()\u001b[0m\n\u001b[1;32m      5\u001b[0m \u001b[0;34m\u001b[0m\u001b[0m\n\u001b[1;32m      6\u001b[0m \u001b[0ma\u001b[0m \u001b[0;34m=\u001b[0m \u001b[0mA\u001b[0m\u001b[0;34m(\u001b[0m\u001b[0;34m)\u001b[0m\u001b[0;34m\u001b[0m\u001b[0m\n\u001b[0;32m----> 7\u001b[0;31m \u001b[0ma\u001b[0m\u001b[0;34m.\u001b[0m\u001b[0mf\u001b[0m\u001b[0;34m(\u001b[0m\u001b[0;36m2\u001b[0m\u001b[0;34m)\u001b[0m\u001b[0;34m\u001b[0m\u001b[0m\n\u001b[0m",
      "\u001b[0;32m<ipython-input-17-76e55c5dfa7c>\u001b[0m in \u001b[0;36mf\u001b[0;34m(self, n)\u001b[0m\n\u001b[1;32m      2\u001b[0m     \u001b[0mi\u001b[0m \u001b[0;34m=\u001b[0m \u001b[0;36m3\u001b[0m\u001b[0;34m\u001b[0m\u001b[0m\n\u001b[1;32m      3\u001b[0m     \u001b[0;32mdef\u001b[0m \u001b[0mf\u001b[0m\u001b[0;34m(\u001b[0m\u001b[0mself\u001b[0m\u001b[0;34m,\u001b[0m\u001b[0mn\u001b[0m\u001b[0;34m)\u001b[0m\u001b[0;34m:\u001b[0m\u001b[0;34m\u001b[0m\u001b[0m\n\u001b[0;32m----> 4\u001b[0;31m         \u001b[0mprint\u001b[0m\u001b[0;34m(\u001b[0m\u001b[0mi\u001b[0m\u001b[0;34m)\u001b[0m\u001b[0;34m\u001b[0m\u001b[0m\n\u001b[0m\u001b[1;32m      5\u001b[0m \u001b[0;34m\u001b[0m\u001b[0m\n\u001b[1;32m      6\u001b[0m \u001b[0ma\u001b[0m \u001b[0;34m=\u001b[0m \u001b[0mA\u001b[0m\u001b[0;34m(\u001b[0m\u001b[0;34m)\u001b[0m\u001b[0;34m\u001b[0m\u001b[0m\n",
      "\u001b[0;31mNameError\u001b[0m: name 'i' is not defined"
     ]
    }
   ],
   "source": [
    "class A:\n",
    "    i = 3\n",
    "    def f(self,n):\n",
    "        print(i)\n",
    "        \n",
    "a = A()\n",
    "a.f(2)"
   ]
  },
  {
   "cell_type": "code",
   "execution_count": 7,
   "metadata": {},
   "outputs": [
    {
     "name": "stdout",
     "output_type": "stream",
     "text": [
      "<class 'NameError'> name 'i' is not defined\n",
      "2\n",
      "4\n"
     ]
    }
   ],
   "source": [
    "class A:\n",
    "    i = 3\n",
    "    j = i\n",
    "    class B:\n",
    "        def b(self):\n",
    "            #print(A.B.i)  # AttributeError\n",
    "            #print(B.i)     # NameError\n",
    "            print(i)  # Name Error\n",
    "    B.j = 2\n",
    "    i = 4\n",
    "    \n",
    "b=A.B()\n",
    "\n",
    "try:\n",
    "    b.b()\n",
    "except BaseException as e:\n",
    "    print(e.__class__,e)\n",
    "    \n",
    "print (A.B.j)\n",
    "print (A.i)"
   ]
  },
  {
   "cell_type": "code",
   "execution_count": 37,
   "metadata": {},
   "outputs": [
    {
     "name": "stdout",
     "output_type": "stream",
     "text": [
      "g: 20 3\n",
      "['__class__', '__delattr__', '__dir__', '__doc__', '__eq__', '__format__', '__ge__', '__getattribute__', '__gt__', '__hash__', '__init__', '__init_subclass__', '__le__', '__lt__', '__ne__', '__new__', '__reduce__', '__reduce_ex__', '__repr__', '__setattr__', '__sizeof__', '__str__', '__subclasshook__', 'clear', 'f_back', 'f_builtins', 'f_code', 'f_globals', 'f_lasti', 'f_lineno', 'f_locals', 'f_trace']\n",
      "3\n",
      "{'n': 20}\n",
      "<code object g at 0x10fa578a0, file \"<ipython-input-37-b01d4b217754>\", line 21>\n",
      "f: 10 20\n",
      "<code object f at 0x10fa57930, file \"<ipython-input-37-b01d4b217754>\", line 7>\n",
      "{'i': 20, 'n': 10}\n"
     ]
    }
   ],
   "source": [
    "import inspect\n",
    "\n",
    "# i is entered into the global scope \n",
    "i = 3\n",
    "\n",
    "# f is entered into the global scope\n",
    "def  f(n):\n",
    "    # n is a parameter and is bound in the local scope\n",
    "    # i is entered into the local scope because it is in local scope and\n",
    "    #   it _is_ being bound in the local scope\n",
    "    # the reference g is found in the global scope because \n",
    "    #    (1) the global scope encloses the local scope and\n",
    "    #    (2) the name g is not bound or rebound in the local scope\n",
    "    i = g(2*n)   \n",
    "    print(\"f:\",n,i)\n",
    "    \n",
    "    print(inspect.currentframe().f_code)\n",
    "    print(inspect.currentframe().f_locals)\n",
    "    \n",
    "# g is entered into the global scpe\n",
    "def g(n):\n",
    "    # n is a parameter and is bound in the local scope\n",
    "    # i will be found in the global scope because \n",
    "    #    (1) the global scope encloses the local scope and\n",
    "    #    (2) the name is not bound or rebound in the local scope\n",
    "    \n",
    "   \n",
    "    print(\"g:\",n,i)\n",
    "    \n",
    "    print(dir(inspect.currentframe()))\n",
    "    print(inspect.currentframe().f_globals[\"i\"])\n",
    "    print(inspect.currentframe().f_locals)\n",
    "    print(inspect.currentframe().f_code)\n",
    "\n",
    "    return n\n",
    "\n",
    "# the name f is found in the local scope, and off we go!\n",
    "f(10)"
   ]
  },
  {
   "cell_type": "code",
   "execution_count": 36,
   "metadata": {},
   "outputs": [
    {
     "ename": "SyntaxError",
     "evalue": "no binding for nonlocal 'j' found (<ipython-input-36-4f229af5d847>, line 4)",
     "output_type": "error",
     "traceback": [
      "\u001b[0;36m  File \u001b[0;32m\"<ipython-input-36-4f229af5d847>\"\u001b[0;36m, line \u001b[0;32m4\u001b[0m\n\u001b[0;31m    nonlocal j\u001b[0m\n\u001b[0m    ^\u001b[0m\n\u001b[0;31mSyntaxError\u001b[0m\u001b[0;31m:\u001b[0m no binding for nonlocal 'j' found\n"
     ]
    }
   ],
   "source": [
    "j = 3\n",
    "\n",
    "def f(n):\n",
    "    nonlocal j\n",
    "    print(j)\n",
    "\n",
    "f(10)"
   ]
  },
  {
   "cell_type": "code",
   "execution_count": null,
   "metadata": {},
   "outputs": [],
   "source": []
  }
 ],
 "metadata": {
  "kernelspec": {
   "display_name": "Python 3",
   "language": "python",
   "name": "python3"
  },
  "language_info": {
   "codemirror_mode": {
    "name": "ipython",
    "version": 3
   },
   "file_extension": ".py",
   "mimetype": "text/x-python",
   "name": "python",
   "nbconvert_exporter": "python",
   "pygments_lexer": "ipython3",
   "version": "3.6.4"
  }
 },
 "nbformat": 4,
 "nbformat_minor": 2
}
