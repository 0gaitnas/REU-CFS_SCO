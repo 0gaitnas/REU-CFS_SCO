{
 "cells": [
  {
   "cell_type": "code",
   "execution_count": 24,
   "metadata": {},
   "outputs": [],
   "source": [
    "\n",
    "class C:\n",
    "    m = 1\n",
    "\n",
    "class A(C):\n",
    "    \"\"\"\n",
    "    my doc string\n",
    "    \"\"\"\n",
    "    \n",
    "    n = 1 \n",
    "    \n",
    "    def __init__(self,a):\n",
    "        self.a = a\n",
    "    \n",
    "    def b(self,n):\n",
    "        print(self.b.__dict__)\n",
    "        print(self.__dict__)\n",
    "        pass\n",
    "    \n",
    "a = A(10)"
   ]
  },
  {
   "cell_type": "code",
   "execution_count": 25,
   "metadata": {},
   "outputs": [
    {
     "name": "stdout",
     "output_type": "stream",
     "text": [
      "{'a': 10}\n",
      "{}\n",
      "{'a': 10}\n",
      "{'__module__': '__main__', '__doc__': '\\n    my doc string\\n    ', 'n': 1, '__init__': <function A.__init__ at 0x10b3f6620>, 'b': <function A.b at 0x10b3f66a8>}\n"
     ]
    }
   ],
   "source": [
    "print(a.__dict__)\n",
    "a.b(4)\n",
    "print(A.__dict__)"
   ]
  },
  {
   "cell_type": "code",
   "execution_count": 29,
   "metadata": {},
   "outputs": [
    {
     "data": {
      "text/plain": [
       "['a',\n",
       " '__module__',\n",
       " '__doc__',\n",
       " 'n',\n",
       " '__init__',\n",
       " 'b',\n",
       " 'm',\n",
       " '__dict__',\n",
       " '__weakref__',\n",
       " '__repr__',\n",
       " '__hash__',\n",
       " '__str__',\n",
       " '__getattribute__',\n",
       " '__setattr__',\n",
       " '__delattr__',\n",
       " '__lt__',\n",
       " '__le__',\n",
       " '__eq__',\n",
       " '__ne__',\n",
       " '__gt__',\n",
       " '__ge__',\n",
       " '__new__',\n",
       " '__reduce_ex__',\n",
       " '__reduce__',\n",
       " '__subclasshook__',\n",
       " '__init_subclass__',\n",
       " '__format__',\n",
       " '__sizeof__',\n",
       " '__dir__',\n",
       " '__class__']"
      ]
     },
     "execution_count": 29,
     "metadata": {},
     "output_type": "execute_result"
    }
   ],
   "source": [
    "a.__dir__()"
   ]
  },
  {
   "cell_type": "code",
   "execution_count": 31,
   "metadata": {},
   "outputs": [
    {
     "data": {
      "text/plain": [
       "32"
      ]
     },
     "execution_count": 31,
     "metadata": {},
     "output_type": "execute_result"
    }
   ],
   "source": [
    "a.__sizeof__()"
   ]
  },
  {
   "cell_type": "code",
   "execution_count": null,
   "metadata": {},
   "outputs": [],
   "source": []
  }
 ],
 "metadata": {
  "kernelspec": {
   "display_name": "Python 3",
   "language": "python",
   "name": "python3"
  },
  "language_info": {
   "codemirror_mode": {
    "name": "ipython",
    "version": 3
   },
   "file_extension": ".py",
   "mimetype": "text/x-python",
   "name": "python",
   "nbconvert_exporter": "python",
   "pygments_lexer": "ipython3",
   "version": "3.6.4"
  }
 },
 "nbformat": 4,
 "nbformat_minor": 2
}
