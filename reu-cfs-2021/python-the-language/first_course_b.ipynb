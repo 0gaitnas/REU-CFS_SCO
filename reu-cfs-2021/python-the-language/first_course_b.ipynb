{
 "cells": [
  {
   "cell_type": "markdown",
   "metadata": {},
   "source": [
    "## Python for REU 2019\n",
    "\n",
    "_Burt Rosenberg, 8 May 2019_\n",
    "\n",
    "__During the boot camp, this was lesson C. The order has been changed.__\n",
    "\n",
    "__Moved M&amp;M problem to Supplement on Bayes__\n",
    "\n",
    "\n",
    "### Class and object concepts\n",
    "\n",
    "In Python, everything is a object. So we next cover classes and objects.\n",
    "\n",
    "Quoting https://docs.python.org/3/tutorial/classes.html:\n",
    "\n",
    ">Classes provide a means of bundling data and functionality together. Creating a new class creates a new type of object, allowing new instances of that type to be made. Each class instance can have attributes attached to it for maintaining its state. Class instances can also have methods (defined by its class) for modifying its state.\n",
    "\n",
    "\n",
    "Classes are introduced similar to functions, except instead of the keyword def, use the keyword class. Just as when a def is encountered, Python creates a function object for the function, and enters the pair of the function name and function object into the containing namespace, class statements create class objects, and enter the class name paired with the class object into the containing namespace.\n",
    "\n",
    "A class object also creates a namespace for the class. The definitions made in the scope of the class, called methods, are entered into this namespace. To recall the method object, use the dot notation that directs the serch to the class namespace: class_name.method_name. \n",
    "\n",
    "An object is an instance of a class. When the class name is run, an initialization routine is invoked that returns a reference to an object of that class. The reference refers to a namespace created for just that instance. Variables placed in this namespace have the persistence of the object, and each instance having it's own namespace, has an individual and isolated version of the variable.\n",
    "\n",
    "The method does not magically know to which instance it should refer. The instance reference provided by the object creation must be supplied. By convention, the very first parameter to the method will be this instance reference. By progammer's agreement, it is given the name *self*. \n",
    "\n",
    "In a method, unadorned variable references refer to the local scope, same as a normal def. All other contexts must use the dot notation, for instance, self.variable_name.\n",
    "\n",
    "So far we have presented the details of the following method call,\n",
    "\n",
    ">*class_name.method_name(instance_reference, other_parameters)*\n",
    "\n",
    "Python provides an alternative syntax,\n",
    "\n",
    ">*instance_reference.method_name(other_parameters)*\n",
    "\n",
    "which is more natural, and makes the syntax similar to other object oriented languages. Python automatically rewrites the call of the bottom kind to the top.\n",
    "\n",
    "\n",
    "### Class Boom\n",
    "\n",
    "The Boom program, one more time. This time, with classes.\n",
    "\n",
    "It is really more of a down counter, or a iterator, then a self-propelled boom. When the Boom object is created, it is provided with the start of the count. Because we need this value to persist, we will come back to it, print it, and decrement it, with each method call, we place it in the instance namespace. We need a reference to the object instance to do this, and it is provided as the first argument to the method, which by convention we name *self*.\n",
    "\n",
    "The init method is called on object creation. It takes an addition parameter, n. In the code, n is in the local dictionary and only persists for the length of time init runs. However, we save it to self.n, and now it is an attribute of the instance.\n",
    "\n",
    "The next method returns to this instance variable with each invocation. As a signal that we have printed Boom, the method returns False when there is no next value. \n"
   ]
  },
  {
   "cell_type": "code",
   "execution_count": 50,
   "metadata": {},
   "outputs": [
    {
     "name": "stdout",
     "output_type": "stream",
     "text": [
      "10\n",
      "9\n",
      "8\n",
      "7\n",
      "6\n",
      "5\n",
      "4\n",
      "3\n",
      "2\n",
      "1\n",
      "BOOM!\n"
     ]
    }
   ],
   "source": [
    "\n",
    "class Boom:\n",
    "    \"\"\"\n",
    "    the boom program, using classes\n",
    "    \"\"\"\n",
    "    def __init__(self,n):\n",
    "        self.n = n\n",
    "    \n",
    "    def next(self):\n",
    "        if self.n>0:\n",
    "            print (self.n)\n",
    "        else:\n",
    "            print (\"BOOM!\")\n",
    "        self.n -= 1\n",
    "        return self.n>=0\n",
    "\n",
    "boom = Boom(10)\n",
    "while boom.next() : pass\n",
    "      \n",
    "# Boom?\n",
    "\n",
    "# the other way of invoking methods\n",
    "#boom = Boom(10)\n",
    "#while Boom.next(boom) : pass"
   ]
  },
  {
   "cell_type": "markdown",
   "metadata": {},
   "source": [
    "### Inheritance on the quick\n",
    "\n",
    "An important part of objects is support for _inheritance_. One object can be a _subclass_ of another, which means it supports all the methods and attributes of the superclassing object, but more. Or, of the methods and attributes of the superclassing object, they are updated in the subclass object to be more specific to the subclass.\n",
    "\n",
    "The names at first seem backward. The super object is more limited, hence more general. Superman was not more limited than Clark Kent. He was Clark Kent and more. He was superman. The naming is from set theory, thinking of the class being all objects that are of that class, and set containment.\n",
    "\n",
    "Everything in Python is an object. All objects inherit from the ultimate superclass _object_. Define an object BaseTemperature that has a method farenheit_to_celsius. It is in the set of all objects of type object, because all objects extend from object. Hence the set of all objects of class <code>BaseTemperature</code> is a subset of the set of all objects of class <code>object</code>.\n",
    "\n",
    "But not all objects have the <code>method farenheit_to_celsius</code> &mdash; they are not all functional in that capacity. Hence the set of all objects of class BaseTemperature is not all objects. Hence the set is a strict subset. \n",
    "\n",
    "I suppose they could have defined the name to be contra-variant: as sets go up towards super, the naming of classes goes down towards sub. But they didn't. To go your parent object from which you inherit, go super. Towards inherited, go sub.\n"
   ]
  },
  {
   "cell_type": "code",
   "execution_count": 25,
   "metadata": {},
   "outputs": [
    {
     "name": "stdout",
     "output_type": "stream",
     "text": [
      "100.0\n",
      "100.0\n",
      "212.0\n",
      "too hot!\n",
      "too cold!\n",
      "I told you that you can't do that!\n",
      "\n",
      "This can be true: True\n",
      "This can be false: False\n",
      "\n",
      "Everything is an object\n",
      "We hold these truths to be self-evident: True\n",
      "We hold these truths to be self-evident: True\n"
     ]
    }
   ],
   "source": [
    "\n",
    "class BaseTemperature:\n",
    "    \n",
    "    def farenheit_to_celsius(self,f):\n",
    "        return (f-32.0)*5.0/9.0\n",
    "\n",
    "    def talk_about_the_weather(self):\n",
    "        print(\"too hot!\")\n",
    "\n",
    "class BetterTemperature(BaseTemperature):\n",
    "    \n",
    "    def celsius_to_farenheit(self,c):\n",
    "        return 32.0 + c*9.0/5.0\n",
    "\n",
    "    def talk_about_the_weather(self):\n",
    "        print(\"too cold!\")\n",
    "\n",
    "bas = BaseTemperature()\n",
    "bet = BetterTemperature()\n",
    "print(bas.farenheit_to_celsius(212.0))\n",
    "print(bet.farenheit_to_celsius(212.0))\n",
    "print(bet.celsius_to_farenheit(100.0))\n",
    "\n",
    "bas.talk_about_the_weather()\n",
    "bet.talk_about_the_weather()\n",
    "\n",
    "# this thows an error\n",
    "try:\n",
    "    bas.celsius_to_farenheit(100.0)\n",
    "except AttributeError:\n",
    "    print(\"I told you that you can't do that!\")\n",
    "\n",
    "# some final words on inheritance\n",
    "print(\"\")\n",
    "\n",
    "print(\"This can be true:\",isinstance(bet,BaseTemperature))\n",
    "print(\"This can be false:\",isinstance(bas,BetterTemperature))\n",
    "print(\"\\nEverything is an object\")\n",
    "# the complete super object is the class object\n",
    "print(\"We hold these truths to be self-evident:\",isinstance(bas,object))\n",
    "# a number is an instance of a numeric object, also inheriting from object\n",
    "print(\"We hold these truths to be self-evident:\",isinstance(1,object))"
   ]
  },
  {
   "cell_type": "markdown",
   "metadata": {},
   "source": [
    "### Exercise:\n",
    "\n",
    "Create the Accumulate class that has an accumulate method, and a tell method. The instance variable quantity is incremented on accumulate and printer on tell."
   ]
  },
  {
   "cell_type": "code",
   "execution_count": 25,
   "metadata": {},
   "outputs": [
    {
     "name": "stdout",
     "output_type": "stream",
     "text": [
      "broken!\n"
     ]
    }
   ],
   "source": [
    "\n",
    "\n",
    "\n",
    "class Accumulate:\n",
    "    \n",
    "    def __init__(self):\n",
    "        self.quantity = 0\n",
    "        \n",
    "    def accumulate(self,x):\n",
    "        # update self.quantity\n",
    "        pass\n",
    "        \n",
    "    def tell(self):\n",
    "        # tell me self.quantity\n",
    "        pass\n",
    "\n",
    "\n",
    "def test_accumulate():\n",
    "    test_input = [4,2,7,5,2,4,1,3,2]\n",
    "    test_quantity = 0\n",
    "    acc = Accumulate()\n",
    "    for x in test_input:\n",
    "        test_quantity += x\n",
    "        acc.accumulate(x)\n",
    "    if acc.tell()==test_quantity:\n",
    "        print(\"correct!\")\n",
    "    else:\n",
    "        print(\"broken!\")\n",
    "        \n",
    "test_accumulate()"
   ]
  },
  {
   "cell_type": "code",
   "execution_count": 9,
   "metadata": {},
   "outputs": [
    {
     "name": "stdout",
     "output_type": "stream",
     "text": [
      "FrameInfo(frame=<frame object at 0x10b273048>, filename='<ipython-input-9-587b514cb335>', lineno=7, function='f', code_context=['    return g()\\n'], index=0)\n"
     ]
    }
   ],
   "source": [
    "import inspect\n",
    "\n",
    "def f():\n",
    "    def g():\n",
    "        ofs = inspect.getouterframes(inspect.currentframe())\n",
    "        return ofs\n",
    "    return g()\n",
    "    \n",
    "print(f()[1])"
   ]
  },
  {
   "cell_type": "code",
   "execution_count": 13,
   "metadata": {},
   "outputs": [
    {
     "name": "stdout",
     "output_type": "stream",
     "text": [
      "[FrameInfo(frame=<frame object at 0x7fe436274a88>, filename='<ipython-input-13-9e3a724ea4ac>', lineno=3, function='boom', code_context=['        return inspect.getouterframes(inspect.currentframe())\\n'], index=0), FrameInfo(frame=<frame object at 0x7fe436277a58>, filename='<ipython-input-13-9e3a724ea4ac>', lineno=5, function='boom', code_context=['        return boom(n-1)\\n'], index=0), FrameInfo(frame=<frame object at 0x7fe433ddfc58>, filename='<ipython-input-13-9e3a724ea4ac>', lineno=5, function='boom', code_context=['        return boom(n-1)\\n'], index=0), FrameInfo(frame=<frame object at 0x7fe43627bdd8>, filename='<ipython-input-13-9e3a724ea4ac>', lineno=5, function='boom', code_context=['        return boom(n-1)\\n'], index=0), FrameInfo(frame=<frame object at 0x10b083b88>, filename='<ipython-input-13-9e3a724ea4ac>', lineno=5, function='boom', code_context=['        return boom(n-1)\\n'], index=0), FrameInfo(frame=<frame object at 0x7fe43627b898>, filename='<ipython-input-13-9e3a724ea4ac>', lineno=7, function='<module>', code_context=['ofs = boom(4)\\n'], index=0), FrameInfo(frame=<frame object at 0x7fe43627e478>, filename='/Users/ojo/anaconda3/lib/python3.6/site-packages/IPython/core/interactiveshell.py', lineno=2910, function='run_code', code_context=['                exec(code_obj, self.user_global_ns, self.user_ns)\\n'], index=0), FrameInfo(frame=<frame object at 0x7fe43627e208>, filename='/Users/ojo/anaconda3/lib/python3.6/site-packages/IPython/core/interactiveshell.py', lineno=2850, function='run_ast_nodes', code_context=['                if self.run_code(code, result):\\n'], index=0), FrameInfo(frame=<frame object at 0x7fe43586e818>, filename='/Users/ojo/anaconda3/lib/python3.6/site-packages/IPython/core/interactiveshell.py', lineno=2728, function='run_cell', code_context=['                   interactivity=interactivity, compiler=compiler, result=result)\\n'], index=0), FrameInfo(frame=<frame object at 0x10b248788>, filename='/Users/ojo/anaconda3/lib/python3.6/site-packages/ipykernel/zmqshell.py', lineno=537, function='run_cell', code_context=['        return super(ZMQInteractiveShell, self).run_cell(*args, **kwargs)\\n'], index=0), FrameInfo(frame=<frame object at 0x7fe433f81a98>, filename='/Users/ojo/anaconda3/lib/python3.6/site-packages/ipykernel/ipkernel.py', lineno=208, function='do_execute', code_context=['            res = shell.run_cell(code, store_history=store_history, silent=silent)\\n'], index=0), FrameInfo(frame=<frame object at 0x7fe433f80158>, filename='/Users/ojo/anaconda3/lib/python3.6/site-packages/ipykernel/kernelbase.py', lineno=399, function='execute_request', code_context=['                                        user_expressions, allow_stdin)\\n'], index=0), FrameInfo(frame=<frame object at 0x7fe436275df8>, filename='/Users/ojo/anaconda3/lib/python3.6/site-packages/ipykernel/kernelbase.py', lineno=233, function='dispatch_shell', code_context=['                handler(stream, idents, msg)\\n'], index=0), FrameInfo(frame=<frame object at 0x10b132828>, filename='/Users/ojo/anaconda3/lib/python3.6/site-packages/ipykernel/kernelbase.py', lineno=283, function='dispatcher', code_context=['                return self.dispatch_shell(stream, msg)\\n'], index=0), FrameInfo(frame=<frame object at 0x7fe433f81818>, filename='/Users/ojo/anaconda3/lib/python3.6/site-packages/tornado/stack_context.py', lineno=277, function='null_wrapper', code_context=['                return fn(*args, **kwargs)\\n'], index=0), FrameInfo(frame=<frame object at 0x7fe436275b98>, filename='/Users/ojo/anaconda3/lib/python3.6/site-packages/zmq/eventloop/zmqstream.py', lineno=414, function='_run_callback', code_context=['                callback(*args, **kwargs)\\n'], index=0), FrameInfo(frame=<frame object at 0x7fe433e79198>, filename='/Users/ojo/anaconda3/lib/python3.6/site-packages/zmq/eventloop/zmqstream.py', lineno=472, function='_handle_recv', code_context=['                self._run_callback(callback, msg)\\n'], index=0), FrameInfo(frame=<frame object at 0x7fe433de38f8>, filename='/Users/ojo/anaconda3/lib/python3.6/site-packages/zmq/eventloop/zmqstream.py', lineno=440, function='_handle_events', code_context=['                self._handle_recv()\\n'], index=0), FrameInfo(frame=<frame object at 0x7fe433dde248>, filename='/Users/ojo/anaconda3/lib/python3.6/site-packages/tornado/stack_context.py', lineno=277, function='null_wrapper', code_context=['                return fn(*args, **kwargs)\\n'], index=0), FrameInfo(frame=<frame object at 0x7fe433dd8658>, filename='/Users/ojo/anaconda3/lib/python3.6/site-packages/tornado/ioloop.py', lineno=888, function='start', code_context=['                        handler_func(fd_obj, events)\\n'], index=0), FrameInfo(frame=<frame object at 0x7fe433dd2ef8>, filename='/Users/ojo/anaconda3/lib/python3.6/site-packages/zmq/eventloop/ioloop.py', lineno=177, function='start', code_context=['            super(ZMQIOLoop, self).start()\\n'], index=0), FrameInfo(frame=<frame object at 0x7fe436229cd8>, filename='/Users/ojo/anaconda3/lib/python3.6/site-packages/ipykernel/kernelapp.py', lineno=478, function='start', code_context=['            self.io_loop.start()\\n'], index=0), FrameInfo(frame=<frame object at 0x7fe436214408>, filename='/Users/ojo/anaconda3/lib/python3.6/site-packages/traitlets/config/application.py', lineno=658, function='launch_instance', code_context=['        app.start()\\n'], index=0), FrameInfo(frame=<frame object at 0x1089b5cc0>, filename='/Users/ojo/anaconda3/lib/python3.6/site-packages/ipykernel_launcher.py', lineno=16, function='<module>', code_context=['    app.launch_new_instance()\\n'], index=0), FrameInfo(frame=<frame object at 0x7fe433c2bb78>, filename='/Users/ojo/anaconda3/lib/python3.6/runpy.py', lineno=85, function='_run_code', code_context=['    exec(code, run_globals)\\n'], index=0), FrameInfo(frame=<frame object at 0x7fe433d03328>, filename='/Users/ojo/anaconda3/lib/python3.6/runpy.py', lineno=193, function='_run_module_as_main', code_context=['                     \"__main__\", mod_spec)\\n'], index=0)]\n"
     ]
    }
   ],
   "source": [
    "def boom(n):\n",
    "    if n==0:\n",
    "        return inspect.getouterframes(inspect.currentframe())\n",
    "    else:\n",
    "        return boom(n-1)\n",
    "    \n",
    "ofs = boom(4)\n",
    "print(ofs)"
   ]
  },
  {
   "cell_type": "code",
   "execution_count": null,
   "metadata": {},
   "outputs": [],
   "source": []
  }
 ],
 "metadata": {
  "kernelspec": {
   "display_name": "Python 3",
   "language": "python",
   "name": "python3"
  },
  "language_info": {
   "codemirror_mode": {
    "name": "ipython",
    "version": 3
   },
   "file_extension": ".py",
   "mimetype": "text/x-python",
   "name": "python",
   "nbconvert_exporter": "python",
   "pygments_lexer": "ipython3",
   "version": "3.6.4"
  }
 },
 "nbformat": 4,
 "nbformat_minor": 2
}
