{
 "cells": [
  {
   "cell_type": "markdown",
   "metadata": {},
   "source": [
    "# The Numpy Library\n",
    "\n",
    "**Burton Rosenberg, May 2017**\n",
    "\n",
    "Python is being used increasingly as a language for scientific computing because of its qualities as a programing language and because of community developed libraries extending the langauges abilities. Some of these libraries are written in C to truely extend the way the language represents and manipulates data.\n",
    "\n",
    "Numby introduces the datatype _ndarray_, a multi-dimensional array of numbers. The ndarray improves on the list for efficiency and the collection methods it supports. That includes the notion of _universal functions_ and _broadcasting_. These concepts and methods make it very intuitive to us arrays for scientific computation. \n",
    "\n",
    "Numpy is one element of a larger library for Pythonic scientific computing called Scipy. The entire scipy library is described at [scipy.org](https://www.scipy.org/docs.html). One might also look at the [scipy-lectures](http://www.scipy-lectures.org/index.html) tutoral."
   ]
  },
  {
   "cell_type": "markdown",
   "metadata": {},
   "source": [
    "## Libraries\n",
    "\n",
    "Libraries in Python include packages and modules. Modules are files containing Python code that is made available for use with the _import statement_. Packages are collections of modules, represented as entire directory trees of modules. An import statement is of the form  import-as or from-import-as.\n",
    "\n",
    "Import statements must first find the module in the system enviornment, then make the contents available by populating the local namespace. A simple _import module_ command finds a file with the same name as the module name and populates a local namespace of the same name as the module name. If one wishes the local namespace name to be different, use _import module as name-. \n",
    "\n",
    "Here we import the numpy library."
   ]
  },
  {
   "cell_type": "code",
   "execution_count": 15,
   "metadata": {},
   "outputs": [],
   "source": [
    "import numpy as np"
   ]
  },
  {
   "cell_type": "markdown",
   "metadata": {},
   "source": [
    "The from form of the import statement, _from module import name as name_, operates by first looking up the module, then introducing namespaces one by one, according to the trailing name-as clauses.\n",
    "\n",
    "#### Search path\n",
    "\n",
    "Names are found by searching the system path. This path can be accessed using the path list of strings in the sys module.\n"
   ]
  },
  {
   "cell_type": "code",
   "execution_count": 16,
   "metadata": {},
   "outputs": [
    {
     "name": "stdout",
     "output_type": "stream",
     "text": [
      "type(sys): <class 'module'>\n",
      "type(sys.path) <class 'list'>\n",
      "type(sys.path[0]): <class 'str'>\n",
      "sys.path: ['', '/Users/ojo/anaconda3/lib/python36.zip', '/Users/ojo/anaconda3/lib/python3.6', '/Users/ojo/anaconda3/lib/python3.6/lib-dynload', '/Users/ojo/anaconda3/lib/python3.6/site-packages', '/Users/ojo/anaconda3/lib/python3.6/site-packages/aeosa', '/Users/ojo/anaconda3/lib/python3.6/site-packages/IPython/extensions', '/Users/ojo/.ipython']\n"
     ]
    }
   ],
   "source": [
    "#import sys\n",
    "import sys\n",
    "print (\"type(sys):\", type(sys))\n",
    "print (\"type(sys.path)\", type(sys.path))\n",
    "print (\"type(sys.path[0]):\", type(sys.path[0]))\n",
    "print (\"sys.path:\", sys.path)\n",
    "\n"
   ]
  },
  {
   "cell_type": "markdown",
   "metadata": {},
   "source": [
    "#### Packages\n",
    "\n",
    "_Packages_ are directory-like spaces of modules. Imports of packages retain the directory hierarchy by dot-delimited names in the python namespace. For instance, the _from matplotlib import pyplot as plt_ command brings in matplotlib.pyplot, but binds it to the simple name plt."
   ]
  },
  {
   "cell_type": "markdown",
   "metadata": {},
   "source": [
    "## Numpy arrays\n",
    "\n",
    "The ndarray type provided by the numby library is an efficient and flexible array for scientific computing. It contains only numbers or other arrays in a rectangular fashion. An ndarray is represented in memory as a block of memory, an indexing function (the array's shape) and an base type (some sort of number). The indexing function gives the number of dimensions, the size along each dimension, and a _stride_ indicating offsets between successive elements in a dimension. "
   ]
  },
  {
   "cell_type": "code",
   "execution_count": 17,
   "metadata": {},
   "outputs": [
    {
     "name": "stdout",
     "output_type": "stream",
     "text": [
      "na: [1. 2. 3.]\n",
      "nb: [0. 0. 0.]\n",
      "nc: [[1. 1.]\n",
      " [1. 1.]\n",
      " [1. 1.]]\n",
      "0 <class 'numpy.ndarray'>\n",
      "1 <class 'object'>\n",
      "We hold these truths to be self-evident: True\n"
     ]
    }
   ],
   "source": [
    "import numpy as np\n",
    "import inspect\n",
    "\n",
    "na  = np.array([1,2,3],dtype=\"float\")\n",
    "nb= np.zeros(3)\n",
    "nc = np.ones((3,2))\n",
    "print (\"na:\",na)\n",
    "print (\"nb:\", nb)\n",
    "print (\"nc:\", nc)\n",
    "                \n",
    "for i,t in enumerate(inspect.getmro(type(na))):\n",
    "    print (i,t)\n",
    "\n",
    "# advanced\n",
    "\n",
    "nia = np.eye(3)\n",
    "nib = np.diag(np.ones(3))\n",
    "print (\"We hold these truths to be self-evident:\", np.array_equal(nia,nib))"
   ]
  },
  {
   "cell_type": "markdown",
   "metadata": {},
   "source": [
    "#### element-wise operations, masking-indexing and array functions\n",
    "\n",
    "Numby arrays support:\n",
    "* element-wise operations such as addition, multiplication and logical operations; \n",
    "* indexing operations based on masking;\n",
    "* some common functions involving arrays\n",
    "\n",
    "See the scipy.org numpy-1.12.0 [reference](https://docs.scipy.org/doc/numpy-1.12.0/reference/routines.html)"
   ]
  },
  {
   "cell_type": "code",
   "execution_count": 18,
   "metadata": {},
   "outputs": [
    {
     "name": "stdout",
     "output_type": "stream",
     "text": [
      "We hold these truths to be self-evident: True\n",
      "The big ones: [3 4 5]\n",
      "We hold these truths to be self-evident: True\n",
      "We hold these truths to be self-evident: True\n",
      "The shape of a: (3, 4)\n",
      "The rows of a:\n",
      "\t 0 [0 1 2 3]\n",
      "\t 1 [4 5 6 7]\n",
      "\t 2 [ 8  9 10 11]\n",
      "A vector in inner products: [14 38 62]\n",
      "We hold these truths to be self-evident: True\n"
     ]
    }
   ],
   "source": [
    "import numpy as np\n",
    "\n",
    "a = np.ones(5)\n",
    "c = np.array([1,2,3,4,5])\n",
    "print (\"We hold these truths to be self-evident:\", c.sum()/len(c)==c.mean())\n",
    "print (\"The big ones:\", c[c > (a+a)])\n",
    "print (\"We hold these truths to be self-evident:\", c.dot(a) == np.sum(a[:]*c[:]))\n",
    "print (\"We hold these truths to be self-evident:\", np.linalg.norm(c)**2 == np.inner(c,c))\n",
    "\n",
    "# note that dot extends to matrix multiplication, but inner \n",
    "# dereduces an array by one dimension, by distributing the inner product\n",
    "# over the last dimension\n",
    "\n",
    "a = np.arange(12).reshape((3,4))\n",
    "print (\"The shape of a:\", a.shape)\n",
    "print (\"The rows of a:\")\n",
    "\n",
    "for i,r in enumerate(a):\n",
    "    print ('\\t',i,r)\n",
    "print (\"A vector in inner products:\", np.inner(a,np.arange(4)))\n",
    "print (\"We hold these truths to be self-evident:\", np.array_equal(\n",
    "        np.dot(a,np.arange(4)),\n",
    "        np.inner(a,np.arange(4))))\n"
   ]
  },
  {
   "cell_type": "markdown",
   "metadata": {},
   "source": [
    "#### Arrays in C\n",
    "\n",
    "The technology behind the ndarray is to wrap native arrays, as represented in C language, inside a Python object. To better understand ndarrays, we discuss how C handles arrays.\n",
    "\n",
    "C language adopts an model of memory as an array of bytes. Each byte has an address, and given an address A, there are address A+1, A+2, etc., subsequent in memory. It is considered extremely efficient, from an address A and an index i, to store and fetch memory location A+i. \n",
    "\n",
    "C has a collect of primitive types including char, int, long, float and double. A declared variable of a type requires a certain number of bytes for storage, as given by the keyword _sizeof_. C mandates the general scaling of types. For instance, sizeof(char)<=sizeof(int), but does not mandate any other value other than that sizeof(char) is one. However, a common situation is short is 2 bytes, int is 4 bytes, long is 8 bytes, float is 8 bytes and and double is 16 bytes.\n",
    "\n",
    "Arrays in C are _contiguously_ in memory, beginning at a base address associated with the name of the array (bare, without any indexing decorations), with the i-th element located at i times the sizeof the type of element the array stores. An example of notation is to declare a ten element array of integer as _int a[10]_. Then _a_ is a pointer to int, and _a+i_ is the address _i * sizeof(int)_ bytes from the base of the array.\n",
    "\n",
    "Multidimensional arrays, such as _int [2][3]_ are understood as a sequence of 2 sequences of 3 integers. Here is a picture\n",
    "\n",
    "<pre>\n",
    " int int int.  int int int\n",
    "+---+---+---+ +---+---+---+   sequences of three int's, each one after the other in memory\n",
    "+-----------+ +-----------+   the array is two such sequences, one after the other in memory,\n",
    "</pre>\n",
    "Numpy makes use of the idea of the _stride_, which is the number of bytes between elements that are consecutive in the array indexing. This can be understood similarly in the C native version of the array, on which the ndarray is built. In this instance, the stride of the rightmost index is sizeof(int), and the stide of the leftmost index is three times that. For 32 bit integers, the numpy would notate this as (12,4) &mdash; meaning that changing the \"column\" index by one finds the data element exactly 4 bytes further on in memory, and changing the \"row\" index by one finds the data element exactly 12 bytes further on in memory.\n",
    "\n",
    "As a further example, _int a[2][3][3]_ would be a sequence of 2 sequences of 3 sequences of 3 int's. Here is a picture:\n",
    "<pre>\n",
    " +--+--+--+ +-+--+--+ +--+--+--+ +--+--+--+ +--+--+--+ +--+--+--+ seq of 3 int's\n",
    " +--------+ +-------+ +--------+ +--------+ +--------+ +--------+ seq of 3 int[3]'s\n",
    " +-----------------------------+ +------------------------------+ seq of 2 int[3][3]'s.\n",
    "</pre>\n",
    "with stride (36,12,4) in 72 total contiguous bytes of memory.\n",
    "\n",
    "Note then that in order of memory position, the rightmost index moves fastest in this C layout. That is, the elements occur from lowest address to highest as \n",
    "<pre>\n",
    "a[0][0][0], a[0][0][1], a[0][0][2], a[0][1][0], a[0][1][1], ..., a[0][2][2], a[1][0][0], ... , a[1][2][2].\n",
    "</pre>\n",
    "\n",
    "#### Slices and views\n",
    "\n",
    "The ndarray is an object that contains a C-like array in a contiguous block of memory. It also contains and indexing function that maps into the memory in ways more flexible than C syntax. C syntax has a fixed stride at compile time, and no introspective access to that stride, or way to change it. ndarrays have a shape property that can be set, or a reshape method that can be called, to modify the index function. A simple exercise is to call reshape(-1), which will flatten the whatever the ndarray shape is into a one dimensional sequence of values.\n",
    "\n",
    "A _view_ is an alternative indexing into an array. It might or might no be a copy, depending on whether the view is possible by manipulating strides alone, or applying transpose maps to the indices. For instance, the view generated by the slice notation [::2], that is, take every other element, does not require a copy, but simply doubles the stride in the particular dimension. The transpose operator exchanges the stride and shape values, creating a view of a transpose without rewriting memory."
   ]
  },
  {
   "cell_type": "code",
   "execution_count": 19,
   "metadata": {},
   "outputs": [
    {
     "name": "stdout",
     "output_type": "stream",
     "text": [
      "a.strides= (8,), a.shape= (12,)\n",
      "a= [ 0  1  2  3  4  5  6  7  8  9 10 11]\n",
      "b.strides= (16,), b.shape= (6,)\n",
      "b= [ 0  2  4  6  8 10]\n",
      "\n",
      "a.strides= (24, 8), a.shape= (4, 3)\n",
      "a= [[ 0  1  2]\n",
      " [ 3  4  5]\n",
      " [ 6  7  8]\n",
      " [ 9 10 11]]\n",
      "b.strides= (-48, 16), b.shape= (2, 2)\n",
      "b= [[ 9 11]\n",
      " [ 3  5]]\n",
      "\n",
      "a.strides= (24, 8), a.shape= (4, 3)\n",
      "a= [[-1  1  2]\n",
      " [ 3  4  5]\n",
      " [ 6  7  8]\n",
      " [ 9 10 11]]\n",
      "b.strides= (8, 24), b.shape= (3, 4)\n",
      "b= [[-1  3  6  9]\n",
      " [ 1  4  7 10]\n",
      " [ 2  5  8 11]]\n",
      "\n"
     ]
    }
   ],
   "source": [
    "a = np.arange(12)\n",
    "b = a[::2].view()\n",
    "print (\"a.strides= {}, a.shape= {}\\na= {}\\nb.strides= {}, b.shape= {}\\nb= {}\\n\".format(a.strides, \n",
    "    a.shape, a, b.strides, b.shape, b))\n",
    "a.shape = (4,3)\n",
    "b = a[::-2,::2].view()\n",
    "print (\"a.strides= {}, a.shape= {}\\na= {}\\nb.strides= {}, b.shape= {}\\nb= {}\\n\".format(a.strides, \n",
    "    a.shape, a, b.strides, b.shape, b))\n",
    "b = a.T.view()\n",
    "a[0][0]=-1 # change an element in array a, and in array b as well, as it is a no-copy view of a.\n",
    "print (\"a.strides= {}, a.shape= {}\\na= {}\\nb.strides= {}, b.shape= {}\\nb= {}\\n\".format(a.strides, \n",
    "    a.shape, a, b.strides, b.shape, b))\n"
   ]
  },
  {
   "cell_type": "markdown",
   "metadata": {},
   "source": [
    "\n",
    "\n",
    "#### Broadcasting\n",
    "\n",
    "When the shape of two arrays are broadcast-compatible, the can be extended by broadcasting to distribute multiple copies of one array over the other. In simple terms this includes such operations as _2*c_ where c is an array, since 2 will be broadcast over each element in c (it can also be that _times_ is rewritten as a universal function).\n",
    "\n",
    "Broadcast-compatible arrays are those whose shapes either agree on any dimension, or one dimension is 1, or they differ in dimensions, in which case the missing dimensions are considers 1's.\n"
   ]
  },
  {
   "cell_type": "code",
   "execution_count": 20,
   "metadata": {},
   "outputs": [
    {
     "name": "stdout",
     "output_type": "stream",
     "text": [
      "We hold these truths to be self-evident: True\n"
     ]
    }
   ],
   "source": [
    "a = np.arange(12).reshape(3,4)\n",
    "print (\"We hold these truths to be self-evident:\", np.array_equal(\n",
    "    # broadcast a 1x4 over a 3x4\n",
    "    a+np.ones(4),\n",
    "    # elementwise addition of two 3x4's\n",
    "    a+np.ones(12).reshape(3,4)))\n"
   ]
  },
  {
   "cell_type": "markdown",
   "metadata": {},
   "source": [
    "#### Ufuncs\n",
    "\n",
    "Universal functions are distributed elementwise over each element in an array. This includes some operators, and other standard functions that have been elevated to become ufuncs.\n",
    "    "
   ]
  },
  {
   "cell_type": "code",
   "execution_count": 21,
   "metadata": {},
   "outputs": [
    {
     "ename": "SyntaxError",
     "evalue": "invalid syntax (<ipython-input-21-e14954be02bc>, line 5)",
     "output_type": "error",
     "traceback": [
      "\u001b[0;36m  File \u001b[0;32m\"<ipython-input-21-e14954be02bc>\"\u001b[0;36m, line \u001b[0;32m5\u001b[0m\n\u001b[0;31m    print \"We hold these truths to be self-evident:\", np.all(2*c%2==0)\u001b[0m\n\u001b[0m                                                   ^\u001b[0m\n\u001b[0;31mSyntaxError\u001b[0m\u001b[0;31m:\u001b[0m invalid syntax\n"
     ]
    }
   ],
   "source": [
    "\n",
    "# times-by-2 and add-1 are show broadcasting\n",
    "# elementwise modulo and lessthan are ufunc'ed\n",
    "c = np.array([1,2,3,4,5])\n",
    "print (\"We hold these truths to be self-evident:\", np.all(2*c%2==0))\n",
    "print (\"Vector dominance ordering:\", np.all(c<(c+1)))"
   ]
  },
  {
   "cell_type": "code",
   "execution_count": null,
   "metadata": {},
   "outputs": [],
   "source": [
    "%matplotlib inline\n",
    "import matplotlib.pyplot as plt\n",
    "\n",
    "x = np.linspace(0,2*np.pi,100)  # ndarray by a linear spacing within a range\n",
    "s = np.sin(x) # universal function\n",
    "c = np.cos(x)\n",
    "plt.plot(x,s) # matlab-like plotting library\n",
    "plt.plot(x,c)\n",
    "plt.xlabel('Angle (rad)')\n",
    "plt.legend(['sine','cosine'])\n",
    "plt.show()"
   ]
  },
  {
   "cell_type": "code",
   "execution_count": null,
   "metadata": {},
   "outputs": [],
   "source": []
  }
 ],
 "metadata": {
  "kernelspec": {
   "display_name": "Python 3",
   "language": "python",
   "name": "python3"
  },
  "language_info": {
   "codemirror_mode": {
    "name": "ipython",
    "version": 3
   },
   "file_extension": ".py",
   "mimetype": "text/x-python",
   "name": "python",
   "nbconvert_exporter": "python",
   "pygments_lexer": "ipython3",
   "version": "3.6.4"
  }
 },
 "nbformat": 4,
 "nbformat_minor": 2
}
