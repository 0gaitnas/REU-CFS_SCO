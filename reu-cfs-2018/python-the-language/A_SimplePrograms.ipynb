{
 "cells": [
  {
   "cell_type": "markdown",
   "metadata": {},
   "source": [
    "# Simple Programs\n",
    "**Burt Rosenberg, May 2017**\n",
    "\n",
    "Some simple programs in Python, written for 2017 REU: Computing for structure.\n",
    "\n",
    "### Hello World\n"
   ]
  },
  {
   "cell_type": "code",
   "execution_count": 51,
   "metadata": {},
   "outputs": [
    {
     "name": "stdout",
     "output_type": "stream",
     "text": [
      "hello world!\n"
     ]
    }
   ],
   "source": [
    "def hello_world():\n",
    "    \"\"\"\n",
    "    A proceedure to print \"hello world!\"\n",
    "    \"\"\"\n",
    "    print \"hello world!\"\n",
    "    \n",
    "hello_world()\n"
   ]
  },
  {
   "cell_type": "markdown",
   "metadata": {},
   "source": [
    "### Iterate over a list"
   ]
  },
  {
   "cell_type": "code",
   "execution_count": 52,
   "metadata": {},
   "outputs": [
    {
     "name": "stdout",
     "output_type": "stream",
     "text": [
      "once\n",
      "upon\n",
      "a\n",
      "time\n",
      "0 once\n",
      "1 upon\n",
      "2 a\n",
      "3 time\n"
     ]
    }
   ],
   "source": [
    "def list_a_list(t):\n",
    "    \"\"\"\n",
    "    Listing a list, really about iteration through a list\n",
    "    \"\"\"\n",
    "    for e in t:\n",
    "        print e\n",
    "\n",
    "def list_a_list_numbered(t):       \n",
    "    for i,e in enumerate(t):\n",
    "        print i,e\n",
    "            \n",
    "a = [\"once\",\"upon\",\"a\",\"time\"]\n",
    "list_a_list(a)\n",
    "list_a_list_numbered(a)\n",
    "    "
   ]
  },
  {
   "cell_type": "markdown",
   "metadata": {},
   "source": [
    "### Iterable experiment\n",
    "\n",
    "Both a list and a string are iterable. There is no character type in Python &mdash; the iteration elements of a string are length 1 strings ofthe characters in the string.\n"
   ]
  },
  {
   "cell_type": "code",
   "execution_count": 53,
   "metadata": {},
   "outputs": [
    {
     "name": "stdout",
     "output_type": "stream",
     "text": [
      "1 a\n",
      "2 b\n",
      "3 c\n"
     ]
    }
   ],
   "source": [
    "def iter_experiment(s,t):\n",
    "    if len(s)==len(t):\n",
    "        for es,et in zip(s,t):\n",
    "            print es, et\n",
    "\n",
    "a = [1,2,3]\n",
    "b = \"abc\"\n",
    "\n",
    "iter_experiment(a,b)"
   ]
  },
  {
   "cell_type": "markdown",
   "metadata": {},
   "source": [
    "### Find minimum in list"
   ]
  },
  {
   "cell_type": "code",
   "execution_count": 54,
   "metadata": {},
   "outputs": [
    {
     "name": "stdout",
     "output_type": "stream",
     "text": [
      "1\n"
     ]
    }
   ],
   "source": [
    "def find_min(t):\n",
    "    \"\"\"\n",
    "    Returns the value and index of minimum in a list\n",
    "    \"\"\"\n",
    "    if len(t)==0:\n",
    "        return None\n",
    "    m = t[0]\n",
    "    for j in range(len(t)):\n",
    "        if t[j]<m :\n",
    "            m = t[j]\n",
    "    return m\n",
    "\n",
    "a = [3,4,1,7]\n",
    "print find_min(a)"
   ]
  },
  {
   "cell_type": "markdown",
   "metadata": {},
   "source": [
    "### Selection sort"
   ]
  },
  {
   "cell_type": "code",
   "execution_count": 55,
   "metadata": {},
   "outputs": [
    {
     "name": "stdout",
     "output_type": "stream",
     "text": [
      "[1, 3, 4, 7]\n"
     ]
    }
   ],
   "source": [
    "def selection_sort(t):\n",
    "    \"\"\"\n",
    "    Selection sort. Uses find_min defined above\n",
    "    \"\"\"\n",
    "    t_sorted = []\n",
    "    r = find_min(t)\n",
    "\n",
    "    # Loop Invariant: \n",
    "    # 1) r has minimum value in t\n",
    "    # 2) all elements originally on t are now on either t or t_sorted\n",
    "    # 3) t_sorted is sorted\n",
    "\n",
    "    while r!=None:\n",
    "        t_sorted.append(r)\n",
    "        t.remove(r)\n",
    "        r = find_min(t)\n",
    "    return t_sorted\n",
    "\n",
    "a = [3,4,1,7]\n",
    "print selection_sort(a)"
   ]
  },
  {
   "cell_type": "markdown",
   "metadata": {},
   "source": [
    "### Partition\n",
    "\n",
    "This function is often implemented in preparation for quick sort.\n"
   ]
  },
  {
   "cell_type": "code",
   "execution_count": 56,
   "metadata": {},
   "outputs": [
    {
     "name": "stdout",
     "output_type": "stream",
     "text": [
      "([2, 3, 1], [4], [5, 7, 4, 9, 8])\n"
     ]
    }
   ],
   "source": [
    "def partition(l):\n",
    "    \"\"\"\n",
    "    Parition a list into three lists, of lesser than or greater than \n",
    "    the first element in the list\n",
    "    \"\"\"\n",
    "    if len(l)==0 :\n",
    "        return ([],[],[])\n",
    "    s = l[0]\n",
    "    less = []\n",
    "    more = []\n",
    "    for i in range(1,len(l)):\n",
    "        if l[i]<s :\n",
    "            less.append(l[i])\n",
    "        else:\n",
    "            more.append(l[i])\n",
    "    return (less,[s],more)\n",
    "        \n",
    "\n",
    "a = [ 4,5,2,3,7,4,9,1,8]\n",
    "print partition(a)"
   ]
  },
  {
   "cell_type": "markdown",
   "metadata": {},
   "source": [
    "### Check if an array is in order\n",
    "\n",
    "This assumes the ordering should be non-strictly ascending. It uses the behavoir of for on empty ranges for correctness on all sized lists.\n"
   ]
  },
  {
   "cell_type": "code",
   "execution_count": 57,
   "metadata": {},
   "outputs": [
    {
     "name": "stdout",
     "output_type": "stream",
     "text": [
      "True True True False\n"
     ]
    }
   ],
   "source": [
    "def is_inorder(l):\n",
    "    for i in range(len(l)-1):\n",
    "        if l[i]>l[i+1] :\n",
    "            return False\n",
    "    return True\n",
    "\n",
    "print is_inorder([]), is_inorder([1]), is_inorder([1,2,3]), is_inorder([1,3,2])"
   ]
  },
  {
   "cell_type": "markdown",
   "metadata": {},
   "source": [
    "### Quick Sort\n",
    "\n",
    "Recursively quick sort each part of the partition of a list; join the sorted parts \n",
    "to form a completely sorted list over the original collection of values."
   ]
  },
  {
   "cell_type": "code",
   "execution_count": 58,
   "metadata": {},
   "outputs": [
    {
     "name": "stdout",
     "output_type": "stream",
     "text": [
      "assert: True\n"
     ]
    }
   ],
   "source": [
    "def quick_sort(l):\n",
    "    \"\"\"\n",
    "    Quick Sort the list\n",
    "    \"\"\"\n",
    "    if len(l)<2 :\n",
    "        # already sorted\n",
    "        return l\n",
    "    low,pivot,high = partition(l)\n",
    "    return quick_sort(low) + pivot + quick_sort(high)\n",
    "\n",
    "import random\n",
    "a = [random.randint(0,100) for i in range(25)]\n",
    "print \"assert:\", is_inorder(quick_sort(a))\n"
   ]
  },
  {
   "cell_type": "code",
   "execution_count": null,
   "metadata": {
    "collapsed": true
   },
   "outputs": [],
   "source": []
  }
 ],
 "metadata": {
  "kernelspec": {
   "display_name": "Python 2",
   "language": "python",
   "name": "python2"
  },
  "language_info": {
   "codemirror_mode": {
    "name": "ipython",
    "version": 2
   },
   "file_extension": ".py",
   "mimetype": "text/x-python",
   "name": "python",
   "nbconvert_exporter": "python",
   "pygments_lexer": "ipython2",
   "version": "2.7.13"
  }
 },
 "nbformat": 4,
 "nbformat_minor": 2
}
