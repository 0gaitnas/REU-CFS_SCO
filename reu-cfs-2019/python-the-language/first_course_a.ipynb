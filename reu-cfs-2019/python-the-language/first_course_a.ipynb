{
 "cells": [
  {
   "cell_type": "markdown",
   "metadata": {},
   "source": [
    "## Python for REU 2019\n",
    "\n",
    "_Burt Rosenberg, 7 May 2019_\n",
    "\n",
    "The Python programming language began around 1990, designed by Guido van Rossum. It is a modern interpreted language supporting a high level of convenience and data abstraction. It competes with Ruby and somewhat with PERL for a universal next-generation language. In the desire to apply Python to scientific problems, the SciPy project provides libraries for highly efficient scientific computation. SciPy is packaged so that it can be installed easily. As a final layer, Jupyter provides a sort of integrated environment of documentation, editing and running Python programs in frameworks called Notebooks.\n",
    "\n",
    "\n",
    "Documentation on python is available at https://docs.python.org/3/. There are two versions of Python and they are incompatible. The 2.7 is the final version 2. We will use version 3.\n",
    "\n",
    "### Def's, if-else, scopes and namespaces\n",
    "\n",
    "There are about four different types of code flow in a program: \n",
    "* the normal top to bottom statement by statement; \n",
    "* the function call and return; \n",
    "* the if-else; \n",
    "* the loop; \n",
    "* and the exception or catch-throw.\n",
    "\n",
    "Define functions with the keyword \"def\" followed by the function name and parameters. \n",
    "\n",
    "If the function is one line, follow this by the : and that one line. Else follow this by the : \n",
    "and a sequence of lines, all exactly indented.\n",
    "\n",
    "The Python language has this weirdness that indentation must be respected. And it can be annoying, as differences between spaces and tabs will cause errors. I find it best to work with an programmer's editor that has a \"Show Invisibles\" option. Under this option, the invisible characters, including space, tab and return, show as a special glyph, so you can see exactly the nature of your white space.\n"
   ]
  },
  {
   "cell_type": "code",
   "execution_count": 5,
   "metadata": {},
   "outputs": [
    {
     "name": "stdout",
     "output_type": "stream",
     "text": [
      "hello world\n",
      "hello world\n"
     ]
    }
   ],
   "source": [
    "# python --version\n",
    "# Python 3.7.3\n",
    "\n",
    "# the def statement \n",
    "def hello(x):print(\"hello\",x)\n",
    "    \n",
    "# try it!\n",
    "hello(\"world\")\n",
    "\n",
    "# multiple lines need to have an indentation\n",
    "def hello(x):\n",
    "    print(\"hello\",end=\" \")  # the way to not have a newline\n",
    "    print(x)\n",
    "\n",
    "# try it!\n",
    "hello(\"world\")"
   ]
  },
  {
   "cell_type": "raw",
   "metadata": {},
   "source": [
    "Here is an example of the if-else written out with full indentation (there are also one-line forms)."
   ]
  },
  {
   "cell_type": "code",
   "execution_count": 6,
   "metadata": {},
   "outputs": [
    {
     "name": "stdout",
     "output_type": "stream",
     "text": [
      "2\n",
      "1\n",
      "0\n",
      "0\n",
      "2\n",
      "1\n",
      "0\n",
      "0\n"
     ]
    }
   ],
   "source": [
    "# if else a great thing to know about\n",
    "# there is also one line versions without indentation, we skip this\n",
    "\n",
    "def sometimes(x):\n",
    "    if x>0: \n",
    "        return x-1\n",
    "    else: \n",
    "        return 0\n",
    "    \n",
    "print(sometimes(3))\n",
    "print(sometimes(sometimes(3)))\n",
    "print(sometimes(sometimes(sometimes(3))))\n",
    "print(sometimes(sometimes(sometimes(sometimes(3)))))\n",
    "\n",
    "# a short form that's useful\n",
    "def sometimes(x):\n",
    "    return x-1 if x>0 else 0\n",
    "\n",
    "print(sometimes(3))\n",
    "print(sometimes(sometimes(3)))\n",
    "print(sometimes(sometimes(sometimes(3))))\n",
    "print(sometimes(sometimes(sometimes(sometimes(3)))))\n"
   ]
  },
  {
   "cell_type": "markdown",
   "metadata": {},
   "source": [
    "The variety of computer languages hides the fact that in essence all programming languages are equally powerful. What can be done in one, can be done in another. As an example, while a looping construct is present in all computing languages, and seemingly essential, looping can be created from if-else and function calls. Rather than returning up on the code flow, the function calls another invocation of itself.\n",
    "\n",
    "A demonstration of this help clarify that the value of next-generation programming languages is not in absolute expresssiveness (which means &mdash; what can or can not be done in the language) but in convenience and in intuitive mnemonics for structuring one's thoughts about computer programs.\n",
    "\n",
    "It also leads to an important discussion of the Execution model (https://docs.python.org/3/reference/executionmodel.html) and of how names are bound to values. \n",
    "\n",
    "The data environment in which runs your Python script as a nesting of *namespaces*. A namespace is a collection of name-object pairs. (For now, object means value. Everything in Python is an object.) When a name is encountered, containing namespaces are search for a match, in order of the nesting of namespaces. The first match in the nesting is taken, and the pair is either accessed for the object value from the pair or updated with a new object value set to the pair.\n",
    "\n",
    "The *scope* of a variable is more or less which namespace it is in, however it refers more to which lines of code in which the namespace is effective. Each function is a scope and creates its own namespace. In a departure from a lexical view to a semantic of dynamic view, when a function calls itself, a new namespace is created for each call. The nesting of namespaces make for a stacking of variables and appropriate hiding and later recovery of values.\n",
    "\n",
    "In the example following, the scope of x is the entire boom function. On each call, a new namespace containing the pair x and a value (actually a number object). I provide both boom and boom_alt, which shows the discarding of covering namespaces as the function returns.\n"
   ]
  },
  {
   "cell_type": "code",
   "execution_count": 1,
   "metadata": {},
   "outputs": [
    {
     "name": "stdout",
     "output_type": "stream",
     "text": [
      "There's no place like BOOM!\n",
      "\n",
      "10\n",
      "9\n",
      "8\n",
      "7\n",
      "6\n",
      "5\n",
      "4\n",
      "3\n",
      "2\n",
      "1\n",
      "BOOM!\n",
      "\n",
      "\n",
      "BOOM showing the recovery of stacked values.\n",
      "\n",
      "10\n",
      "9\n",
      "8\n",
      "7\n",
      "6\n",
      "5\n",
      "4\n",
      "3\n",
      "2\n",
      "1\n",
      "0\n",
      "1\n",
      "2\n",
      "3\n",
      "4\n",
      "5\n",
      "6\n",
      "7\n",
      "8\n",
      "9\n",
      "10\n"
     ]
    }
   ],
   "source": [
    "# repeating thing over by recursion\n",
    "# this is an interesting program for learning\n",
    "# about value binding, and nesting of dictionaries\n",
    "\n",
    "def boom(x):\n",
    "    if x>0:\n",
    "        print(x)\n",
    "        boom(x-1)\n",
    "    else:\n",
    "        print(\"BOOM!\")\n",
    "        \n",
    "print(\"There's no place like BOOM!\\n\")\n",
    "boom(10)\n",
    "\n",
    "\n",
    "def boom_alt(x):\n",
    "    if x>0:\n",
    "        print(x)\n",
    "        boom_alt(x-1)\n",
    "        print(x)\n",
    "    else:\n",
    "        print(0)\n",
    "\n",
    "print(\"\\n\\nBOOM showing the recovery of stacked values.\\n\")\n",
    "boom_alt(10)\n"
   ]
  },
  {
   "cell_type": "markdown",
   "metadata": {},
   "source": [
    "Although simple, Python's approach to the data environment has some gottcha's. The nesting of namespaces begins at the level of the file, called the *global* namespace. What a def statement does is place a name-value pair in the global namespace, the name being the function name, and the value being the function object. An assignment statement at file level will also create a name-value pair in this namespace.\n",
    "\n",
    "The question arises if a function call creates a name-value pair with the same name. That namespace takes precedence and the call to the function f, below, gives 2. The global i is unchanged by the running of f. The function g, however, will search beyond the function scope to global scope, and find the value for i in the global namespace. Hence g prints 4."
   ]
  },
  {
   "cell_type": "code",
   "execution_count": 8,
   "metadata": {},
   "outputs": [
    {
     "name": "stdout",
     "output_type": "stream",
     "text": [
      "2\n",
      "4\n",
      "4\n"
     ]
    }
   ],
   "source": [
    "i = 4\n",
    "\n",
    "def f():\n",
    "    i = 2\n",
    "    print(i)\n",
    "    \n",
    "def g():\n",
    "    print (i)\n",
    "\n",
    "f()\n",
    "print(i)\n",
    "g()"
   ]
  },
  {
   "cell_type": "markdown",
   "metadata": {},
   "source": [
    "Here is where it gets tricky. Reading carefully the Python documentation, \n",
    "\n",
    ">In Python, variables that are only referenced inside a function are implicitly global. If a variable is assigned a value anywhere within the function’s body, it’s assumed to be a local unless explicitly declared as global.\n",
    "\n",
    "This is illustraed with the global i and functions h1 and h2 below. In each the i is assigned somewhere in the function, hence the variable is local scope. This means the namespace of the function will have an entry for i, and the entry for i in the global namespace is covered up.\n",
    "\n",
    "Note that the error is only when the function is invoked. The def statement will gladly create a function object, and attach it to a name. It is when the function is run, and the name lookup occurs, that the runtime will fail with the impossibility."
   ]
  },
  {
   "cell_type": "code",
   "execution_count": 9,
   "metadata": {},
   "outputs": [],
   "source": [
    "i = 6\n",
    "\n",
    "def h1(x):\n",
    "    i = i + 1\n",
    "\n",
    "def h2(x):\n",
    "    j = i\n",
    "    i = j\n",
    "    \n",
    "# uncomment these to see error(s) of our ways\n",
    "\n",
    "# h1(1)\n",
    "# h2(1)    "
   ]
  },
  {
   "cell_type": "code",
   "execution_count": 13,
   "metadata": {},
   "outputs": [
    {
     "name": "stdout",
     "output_type": "stream",
     "text": [
      "\n",
      "in global before call to f:\n",
      "said to be global: 101 102 103\n",
      "said to be nonlocal: 104 105 105\n",
      "\n",
      "\tin f before call to g:\n",
      "\tsaid to be global: 101 102 103\n",
      "\tsaid to be nonlocal: 201 202 203\n",
      "\n",
      "\t\tin g:\n",
      "\t\tsaid to be global: 111 112 113\n",
      "\t\tsaid to be nonlocal: 211 212 213\n",
      "\n",
      "\tin f after call to g:\n",
      "\tsaid to be global: 111 102 103\n",
      "\tsaid to be nonlocal: 201 212 203\n",
      "\n",
      "in global after call to g:\n",
      "said to be global: 111 102 103\n",
      "said to be nonlocal: 104 105 105\n"
     ]
    }
   ],
   "source": [
    "\n",
    "# which values change ?\n",
    "\n",
    "i_in_global = 101\n",
    "j_in_global = 102\n",
    "k_in_global = 103\n",
    "\n",
    "i_in_nonlocal = 104\n",
    "j_in_nonlocal = 105\n",
    "k_in_nonlocal = 105\n",
    "\n",
    "\n",
    "def f():\n",
    "    i_in_nonlocal = 201\n",
    "    j_in_nonlocal = 202\n",
    "    k_in_nonlocal = 203\n",
    "\n",
    "    \n",
    "    def g():\n",
    "        global i_in_global\n",
    "        nonlocal j_in_nonlocal\n",
    "        i_in_global = 111\n",
    "        j_in_global = 112\n",
    "        k_in_global = 113\n",
    "        i_in_nonlocal = 211\n",
    "        j_in_nonlocal = 212\n",
    "        k_in_nonlocal = 213\n",
    "        \n",
    "        print(\"\\n\\t\\tin g:\")\n",
    "        print(\"\\t\\tsaid to be global:\", i_in_global, j_in_global, k_in_global)\n",
    "        print(\"\\t\\tsaid to be nonlocal:\", i_in_nonlocal, j_in_nonlocal, k_in_nonlocal)\n",
    "\n",
    "    print(\"\\n\\tin f before call to g:\")\n",
    "    print(\"\\tsaid to be global:\", i_in_global, j_in_global, k_in_global)\n",
    "    print(\"\\tsaid to be nonlocal:\", i_in_nonlocal, j_in_nonlocal, k_in_nonlocal)\n",
    "\n",
    "    g()\n",
    "    print(\"\\n\\tin f after call to g:\")\n",
    "    print(\"\\tsaid to be global:\", i_in_global, j_in_global, k_in_global)\n",
    "    print(\"\\tsaid to be nonlocal:\", i_in_nonlocal, j_in_nonlocal, k_in_nonlocal)\n",
    "\n",
    "\n",
    "print(\"\\nin global before call to f:\")\n",
    "print(\"said to be global:\", i_in_global, j_in_global, k_in_global)\n",
    "print(\"said to be nonlocal:\", i_in_nonlocal, j_in_nonlocal, k_in_nonlocal)\n",
    "\n",
    "f()\n",
    "\n",
    "print(\"\\nin global after call to g:\")\n",
    "print(\"said to be global:\", i_in_global, j_in_global, k_in_global)\n",
    "print(\"said to be nonlocal:\", i_in_nonlocal, j_in_nonlocal, k_in_nonlocal)\n",
    "         \n",
    "        \n",
    "        "
   ]
  },
  {
   "cell_type": "markdown",
   "metadata": {},
   "source": [
    "### Exercises:\n",
    "\n",
    "Create recursive functions for the fibbonacci series, \n",
    "\n",
    " f_i = f_{i-1} + f_{i-2}, i>=2\n",
    " f_0 = 0\n",
    " f_1 = 1\n",
    " \n",
    "the binomial series,\n",
    "\n",
    "  (n choose k) = (n-1 choose k) + (n-1 choose k-1), when 1=<k<=n-1\n",
    "  (n choose 0) = (n choose n) = 1 all n>=0"
   ]
  },
  {
   "cell_type": "code",
   "execution_count": 10,
   "metadata": {},
   "outputs": [
    {
     "name": "stdout",
     "output_type": "stream",
     "text": [
      "broken!\n",
      "broken!\n"
     ]
    }
   ],
   "source": [
    "\n",
    "# fix my code!! \n",
    "\n",
    "def fib(x):\n",
    "    if x==0:\n",
    "        return 0\n",
    "    if x==1:\n",
    "        return 1\n",
    "    return -1\n",
    "\n",
    "# fix my code!! \n",
    "\n",
    "def choose(n,k):\n",
    "    if k>=1 and k<=n-1:\n",
    "        return 0\n",
    "    return -1\n",
    "\n",
    "\n",
    "#### test programs ....\n",
    "\n",
    "def test_fib():\n",
    "    answers = [1, 1, 2, 3, 5, 8, 13, 21, 34, 55, 89, 144]\n",
    "    i = 1\n",
    "    for ans in answers:\n",
    "        if fib(i)!=ans:\n",
    "            print(\"broken!\")\n",
    "            return\n",
    "        i = i + 1\n",
    "    print(\"correct!\")\n",
    "\n",
    "\n",
    "def test_choose():\n",
    "    answers = [[1,1],[1,2,1],[1,3,3,1],[1,4,6,4,1],[1,5,10,10,5,1]]\n",
    "    n = 1\n",
    "    k = 0\n",
    "    for ans in answers:\n",
    "        for v in ans:\n",
    "            if choose(n,k)!=v:\n",
    "                print(\"broken!\")\n",
    "                return\n",
    "            k = k + 1\n",
    "        k = 0\n",
    "        n = n + 1\n",
    "    print(\"correct!\")\n",
    "\n",
    "#### run the tests\n",
    "        \n",
    "test_fib()\n",
    "test_choose()"
   ]
  },
  {
   "cell_type": "code",
   "execution_count": null,
   "metadata": {},
   "outputs": [],
   "source": []
  }
 ],
 "metadata": {
  "kernelspec": {
   "display_name": "Python 3",
   "language": "python",
   "name": "python3"
  },
  "language_info": {
   "codemirror_mode": {
    "name": "ipython",
    "version": 3
   },
   "file_extension": ".py",
   "mimetype": "text/x-python",
   "name": "python",
   "nbconvert_exporter": "python",
   "pygments_lexer": "ipython3",
   "version": "3.6.4"
  }
 },
 "nbformat": 4,
 "nbformat_minor": 2
}
