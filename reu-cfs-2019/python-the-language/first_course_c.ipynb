{
 "cells": [
  {
   "cell_type": "markdown",
   "metadata": {},
   "source": [
    "## Python for REU 2019\n",
    "\n",
    "_Burt Rosenberg, 7 May 2019_\n",
    "\n",
    "\n",
    "\n",
    "### Class and object concepts\n",
    "\n",
    "\n",
    "Quoting https://docs.python.org/3/tutorial/classes.html:\n",
    "\n",
    ">Classes provide a means of bundling data and functionality together. Creating a new class creates a new type of object, allowing new instances of that type to be made. Each class instance can have attributes attached to it for maintaining its state. Class instances can also have methods (defined by its class) for modifying its state.\n",
    "\n",
    "In Python, everything is a object. So from now on, I won't be afraid to say it.\n",
    "\n",
    "Classes are introduced similar to functions, except instead of the keyword def, use the keyword class. Just as when a def is encountered, Python creates a function object for the function, and enters the pair of the function name and function object into the containing namespace, class statements create class objects, and enter the class name paired with the class object into the containing namespace.\n",
    "\n",
    "A class object also creates a namespace for the class. The definitions made in the scope of the class, called methods, are entered into this namespace. To recall the method object, use the dot notation that directs the serch to the class namespace: class_name.method_name. \n",
    "\n",
    "An object is an instance of a class. When the class name is run, an initialization routine is invoked that returns a reference to an object of that class. The reference refers to a namespace created for just that instance. Variables placed in this namespace have the persistence of the object, and each instance having it's own namespace, has an individual and isolated version of the variable.\n",
    "\n",
    "The method does not magically know to which instance it should refer. The instance reference provided by the object creation must be supplied. By convention, the very first parameter to the method will be this instance reference. By progammer's agreement, it is given the name *self*. \n",
    "\n",
    "In a method, unadorned variable references refer to the local scope, same as a normal def. All other contexts must use the dot notation, for instance, self.variable_name.\n",
    "\n",
    "So far we have presented the details of the following method call,\n",
    "\n",
    ">*class_name.method_name(instance_reference, other_parameters)*\n",
    "\n",
    "Python provides an alternative syntax,\n",
    "\n",
    ">*instance_reference.method_name(other_parameters)*\n",
    "\n",
    "which is more natural, and makes the syntax similar to other object oriented languages. Python automatically rewrites the call of the bottom kind to the top.\n",
    "\n",
    "\n",
    "### Class Boom\n",
    "\n",
    "The Boom program, one more time. This time, with classes.\n",
    "\n",
    "It is really more of a down counter, or a iterator, then a self-propelled boom. When the Boom object is created, it is provided with the start of the count. Because we need this value to persist, we will come back to it, print it, and decrement it, with each method call, we place it in the instance namespace. We need a reference to the object instance to do this, and it is provided as the first argument to the method, which by convention we name *self*.\n",
    "\n",
    "The init method is called on object creation. It takes an addition parameter, n. In the code, n is in the local dictionary and only persists for the length of time init runs. However, we save it to self.n, and now it is an attribute of the instance.\n",
    "\n",
    "The next method returns to this instance variable with each invocation. As a signal that we have printed Boom, the method returns False when there is no next value. \n"
   ]
  },
  {
   "cell_type": "code",
   "execution_count": 18,
   "metadata": {},
   "outputs": [
    {
     "name": "stdout",
     "output_type": "stream",
     "text": [
      "10\n",
      "9\n",
      "8\n",
      "7\n",
      "6\n",
      "5\n",
      "4\n",
      "3\n",
      "2\n",
      "1\n",
      "BOOM!\n",
      "10\n",
      "9\n",
      "8\n",
      "7\n",
      "6\n",
      "5\n",
      "4\n",
      "3\n",
      "2\n",
      "1\n",
      "BOOM!\n"
     ]
    }
   ],
   "source": [
    "\n",
    "class Boom:\n",
    "    \"\"\"\n",
    "    the boom program, using classes\n",
    "    \"\"\"\n",
    "    def __init__(self,n):\n",
    "        self.n = n\n",
    "    \n",
    "    def next(self):\n",
    "        if self.n>0:\n",
    "            print (self.n)\n",
    "        else:\n",
    "            print (\"BOOM!\")\n",
    "        self.n -= 1\n",
    "        return self.n>=0\n",
    "\n",
    "boom = Boom(10)\n",
    "while boom.next() : pass\n",
    "      \n",
    "# Boom?\n",
    "\n",
    "# the other way of invoking methods\n",
    "boom = Boom(10)\n",
    "while Boom.next(boom) : pass"
   ]
  },
  {
   "cell_type": "markdown",
   "metadata": {},
   "source": [
    "### Exercise:\n",
    "\n",
    "Create the Accumulate class that has an accumulate method, and a tell method. The instance variable quantity is incremented on accumulate and printer on tell."
   ]
  },
  {
   "cell_type": "code",
   "execution_count": 25,
   "metadata": {},
   "outputs": [
    {
     "name": "stdout",
     "output_type": "stream",
     "text": [
      "broken!\n"
     ]
    }
   ],
   "source": [
    "\n",
    "# fix my broken code!\n",
    "\n",
    "# note the pass statements. they are there because Python does not allow a\n",
    "# define, or a if body, etc, to be empty. something has got to go there.\n",
    "# pass does nothing\n",
    "\n",
    "class Accumulate:\n",
    "    \n",
    "    def __init__(self):\n",
    "        self.quantity = 0\n",
    "        \n",
    "    def accumulate(self,x):\n",
    "        # update self.quantity\n",
    "        pass\n",
    "        \n",
    "    def tell(self):\n",
    "        # tell me self.quantity\n",
    "        pass\n",
    "\n",
    "\n",
    "def test_accumulate():\n",
    "    test_input = [4,2,7,5,2,4,1,3,2]\n",
    "    test_quantity = 0\n",
    "    acc = Accumulate()\n",
    "    for x in test_input:\n",
    "        test_quantity += x\n",
    "        acc.accumulate(x)\n",
    "    if acc.tell()==test_quantity:\n",
    "        print(\"correct!\")\n",
    "    else:\n",
    "        print(\"broken!\")\n",
    "        \n",
    "test_accumulate()"
   ]
  },
  {
   "cell_type": "code",
   "execution_count": null,
   "metadata": {},
   "outputs": [],
   "source": []
  }
 ],
 "metadata": {
  "kernelspec": {
   "display_name": "Python 3",
   "language": "python",
   "name": "python3"
  },
  "language_info": {
   "codemirror_mode": {
    "name": "ipython",
    "version": 3
   },
   "file_extension": ".py",
   "mimetype": "text/x-python",
   "name": "python",
   "nbconvert_exporter": "python",
   "pygments_lexer": "ipython3",
   "version": "3.7.3"
  }
 },
 "nbformat": 4,
 "nbformat_minor": 2
}
