{
 "cells": [
  {
   "cell_type": "markdown",
   "metadata": {},
   "source": [
    "## Python for REU 2019\n",
    "\n",
    "_Burt Rosenberg, 10 May 2019_\n",
    "\n",
    "### Iterators and Loop Invariants\n"
   ]
  },
  {
   "cell_type": "markdown",
   "metadata": {},
   "source": [
    "**Using a list as an iterator**\n",
    "\n",
    "A list is iterable, so it can be used in a for statment exactly in place of the range() function.\n",
    "\n",
    "It isn't exactly as if the list iterates, but that it wrap itself inside an iterator. If need be, you can explicitly implement to for loop by going from a list to an iterator with the iter function, then apply the next function to the iterator, and make sure that you catch the StopIteration exception.\n",
    "\n",
    "To go from an iterator to a list, use the list function."
   ]
  },
  {
   "cell_type": "code",
   "execution_count": 15,
   "metadata": {},
   "outputs": [
    {
     "name": "stdout",
     "output_type": "stream",
     "text": [
      "0\n",
      "1\n",
      "2\n",
      "3\n",
      "4\n",
      "5\n",
      "6\n",
      "7\n",
      "8\n",
      "9\n",
      "0\n",
      "1\n",
      "2\n",
      "3\n",
      "4\n",
      "5\n",
      "6\n",
      "7\n",
      "8\n",
      "9\n",
      "[0, 1, 2, 3, 4, 5, 6, 7, 8, 9]\n"
     ]
    }
   ],
   "source": [
    "a_l = [i for i in range(10)]\n",
    "for e in a_l:\n",
    "    print(e)\n",
    "\n",
    "a_l_itr = iter(a_l)\n",
    "try:\n",
    "    while True:\n",
    "        print(next(a_l_itr))\n",
    "except StopIteration:\n",
    "    pass\n",
    "\n",
    "a_l_itr = iter(a_l)\n",
    "print(list(a_l_itr))"
   ]
  },
  {
   "cell_type": "markdown",
   "metadata": {},
   "source": [
    "\n",
    "### A few list functions, briefly"
   ]
  },
  {
   "cell_type": "code",
   "execution_count": 16,
   "metadata": {},
   "outputs": [
    {
     "name": "stdout",
     "output_type": "stream",
     "text": [
      "min 1 max 9\n",
      "[3, 6, 9, 1, 2, 7, 13]\n",
      "1\n",
      "wasn't there\n",
      "[1, 2, 3]\n",
      "wasn't there\n"
     ]
    }
   ],
   "source": [
    "l = [3,6,9,1,2,7]\n",
    "\n",
    "# min\n",
    "print(\"min\",min(l),\"max\",max(l))\n",
    "\n",
    "#append\n",
    "l.append(13)\n",
    "print(l)\n",
    "\n",
    "try:\n",
    "    print([1,2,3].index(2))\n",
    "    [1,2,3].index(4)\n",
    "except ValueError:\n",
    "    print(\"wasn't there\")\n",
    "    \n",
    "try:\n",
    "    l = [1,2,2,3]\n",
    "    l.remove(2)\n",
    "    print(l)\n",
    "    [1,2,3].remove(4)\n",
    "except ValueError:\n",
    "    print(\"wasn't there\")\n"
   ]
  },
  {
   "cell_type": "markdown",
   "metadata": {},
   "source": [
    "### Exercise: Selection Sort\n",
    "\n",
    "Please write a selection sort, which works inplace &mdash; the numbers are rearranged in the same array, not copied to a new array. \n",
    "\n",
    "The helpful loop invariant is that the loop begins with i indexing the next location to be finalized, beginning with i = 0; and the value to place in location i is found among locations j>=i. If the value to put in location i comes from location j, swap values between locations i and j.\n"
   ]
  },
  {
   "cell_type": "code",
   "execution_count": 17,
   "metadata": {},
   "outputs": [
    {
     "name": "stdout",
     "output_type": "stream",
     "text": [
      "broken!\n"
     ]
    }
   ],
   "source": [
    "\n",
    "# fix my broken code\n",
    "\n",
    "def selection_sort(a):\n",
    "    \"\"\"\n",
    "    selection sort the list a\n",
    "    \"\"\"\n",
    "    for i in range(len(a)-1):\n",
    "        # i is where to place the smallest number amount [i:]\n",
    "        pass\n",
    "    return a\n",
    "\n",
    "def test_selection_sort():\n",
    "    test = [(13*i)%97 for i in range(84)]\n",
    "    ans = sorted(test[:])\n",
    "    selection_sort(test)\n",
    "    if test == ans:\n",
    "        print(\"correct!\")\n",
    "    else:\n",
    "        print(\"broken!\")   \n",
    "\n",
    "test_selection_sort()"
   ]
  },
  {
   "cell_type": "markdown",
   "metadata": {},
   "source": [
    "### Exercise: Insertion Sort\n",
    "\n",
    "Please write an insertion sort. The sort by its nature works in-place &mdash; the values are moved around the array, not copied off to a new array.\n",
    "\n",
    "The Loop Invariant is that at the top of the loop, location i is considered for swapping with location i+1, to bring the smaller value to location i. Additionally j is set initially to i and the inner loop invariant is that the swapping continues towards smaller j until the value at location j is less than that of location j+1."
   ]
  },
  {
   "cell_type": "code",
   "execution_count": 18,
   "metadata": {},
   "outputs": [
    {
     "name": "stdout",
     "output_type": "stream",
     "text": [
      "broken!\n"
     ]
    }
   ],
   "source": [
    "#fix my broken code\n",
    "\n",
    "def insertion_sort(c):\n",
    "    if len(c)== 0 : return c\n",
    "    \n",
    "    for i in range(len(c)-1):\n",
    "        for j in range(i,-1,-1):\n",
    "            pass\n",
    "    return c\n",
    "\n",
    "def test_insertion_sort():\n",
    "    test = [(13*i)%97 for i in range(84)]\n",
    "    ans = sorted(test[:])\n",
    "    insertion_sort(test)\n",
    "    if test == ans:\n",
    "        print(\"correct!\")\n",
    "    else:\n",
    "        print(\"broken!\")   \n",
    "\n",
    "test_insertion_sort()"
   ]
  },
  {
   "cell_type": "code",
   "execution_count": null,
   "metadata": {},
   "outputs": [],
   "source": []
  }
 ],
 "metadata": {
  "kernelspec": {
   "display_name": "Python 3",
   "language": "python",
   "name": "python3"
  },
  "language_info": {
   "codemirror_mode": {
    "name": "ipython",
    "version": 3
   },
   "file_extension": ".py",
   "mimetype": "text/x-python",
   "name": "python",
   "nbconvert_exporter": "python",
   "pygments_lexer": "ipython3",
   "version": "3.7.3"
  }
 },
 "nbformat": 4,
 "nbformat_minor": 2
}
