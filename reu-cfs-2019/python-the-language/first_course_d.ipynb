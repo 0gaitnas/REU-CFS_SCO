{
 "cells": [
  {
   "cell_type": "markdown",
   "metadata": {},
   "source": [
    "## Python for REU 2019\n",
    "\n",
    "_Burt Rosenberg, 9 May 2019_\n",
    "\n",
    "\n",
    "### Various thing about lists\n",
    "\n"
   ]
  },
  {
   "cell_type": "markdown",
   "metadata": {},
   "source": [
    "The list is one of the most versatile datastructures. It models a sequence of items, which can be a mix of types.\n",
    "\n",
    "Items can be accessed through the index of the item on the list. The first item is at index 0. For a list L access the i-th item with square brackets: L[i]. The last item on the list is at index -1, and the previous to last, at -2, and so on.\n",
    "\n",
    "**Slices**\n",
    "\n",
    "Python supports the selection of multiple elements by index using *slice* notation. The full notation is [a:b:c] fo for a slace beginning at a, ending before b, advancing to include only every c-th element.\n",
    "\n",
    "Slice notation can appear on the right hand side of an assignment, to retrieve a slice of elements, or on the left hand side of an assignment, to receive a slice of elements.\n",
    "\n",
    "Leaving a location blank refers to the default:\n",
    "\n",
    "* the default for the start is the first item in the list\n",
    "* the default for the end is the list item in the list\n",
    "* the default for the skip is to take all items in the start-end range\n",
    "\n",
    "\n",
    "Here are some fun tricks with slices:"
   ]
  },
  {
   "cell_type": "code",
   "execution_count": 42,
   "metadata": {},
   "outputs": [
    {
     "name": "stdout",
     "output_type": "stream",
     "text": [
      "[0, 1, 2, 3, 4, 5, 6, 7, 8, 9]\n",
      "0 9\n",
      "[0, 2, 4, 6, 8]\n",
      "[9, 7, 5, 3, 1]\n",
      "[0, -1, -2, -3, -4, -5, -6, -7, -8, -9]\n",
      "[0, -1, 2, -3, 4, -5, 6, -7, 8, -9]\n",
      "[9, -1, 7, -3, 5, -5, 3, -7, 1, -9]\n",
      "[0, 1, 2, 3, 4, 5, 4, 3, 2, 1, 0]\n"
     ]
    }
   ],
   "source": [
    "def fun_slice():\n",
    "    \"\"\"\n",
    "    here are some fun slice tricks.\n",
    "    \"\"\"\n",
    "    a = [i for i in range(10)]\n",
    "    print(a)\n",
    "    print(a[0],a[-1])\n",
    "    print(a[::2])\n",
    "    print(a[::-2])\n",
    "\n",
    "    b = [-i for i in range(10)]\n",
    "    print(b)\n",
    "    b[::2] = a[::2]\n",
    "    print(b)\n",
    "    b[::2] = a[::-2]\n",
    "    print(b)\n",
    "    \n",
    "    a[len(a)//2:] = a[len(a)//2::-1]\n",
    "    print(a)\n",
    "    \n",
    "fun_slice()"
   ]
  },
  {
   "cell_type": "markdown",
   "metadata": {},
   "source": [
    "\n",
    "__Shallow Copies__\n",
    "\n",
    "There is an important difference between a slice of a list, and the list. A slice extracts values from the list and copies them over. \n",
    "\n",
    "We start with a simple example:"
   ]
  },
  {
   "cell_type": "code",
   "execution_count": 43,
   "metadata": {},
   "outputs": [
    {
     "name": "stdout",
     "output_type": "stream",
     "text": [
      "[9, 1, 7, 3, 5, 5, 3, 7, 1, 9]\n",
      "[9, 1, 7, 3, 5, 5, 3, 7, 1, 9]\n",
      "[0, 1, 2, 3, 4, 5, 6, 7, 8, 9]\n"
     ]
    }
   ],
   "source": [
    "a = [i for i in range(10)]\n",
    "b1 = a\n",
    "b2 = a[:]\n",
    "a[::2] = a[::-2]\n",
    "print(a)\n",
    "print(b1)\n",
    "print(b2)"
   ]
  },
  {
   "cell_type": "markdown",
   "metadata": {},
   "source": [
    "By using a slice to transfer values, the b2 array is not modified by changes in a, although b1 is. This is called a shallow copy, however, because changes in a can still change b2. If what is copied is a referene, rather than a value, changes in what the reference refers to is visible in the copy. For instance:"
   ]
  },
  {
   "cell_type": "code",
   "execution_count": 44,
   "metadata": {},
   "outputs": [
    {
     "name": "stdout",
     "output_type": "stream",
     "text": [
      "[[0], [-1], [-2], [-3], [-4], [-5], [-6], [-7], [-8], [-9]]\n",
      "[[0], [-1], [-2], [-3], [-4], [-5], [-6], [-7], [-8], [-9]]\n"
     ]
    }
   ],
   "source": [
    "a = [[i] for i in range(10)]\n",
    "b2 = a[:]\n",
    "for i in range(len(a)): a[i][0] = -a[i][0]\n",
    "print(a)\n",
    "print(b2)"
   ]
  },
  {
   "cell_type": "markdown",
   "metadata": {},
   "source": [
    "__Deep Copies__\n",
    "\n",
    "A *deep copy* would descend recursively into each list and use the slice notation (among other methods) to copy values rather than references. The more complicated RememberMe class summarizes this."
   ]
  },
  {
   "cell_type": "code",
   "execution_count": 45,
   "metadata": {},
   "outputs": [
    {
     "name": "stdout",
     "output_type": "stream",
     "text": [
      "saved the reference ['a', 2, 3, ['b', 2, 3], [['c', 2, 3], [1, 2, 3], [1, 2, 3]]]\n",
      "made a shallow copy [1, 2, 3, ['b', 2, 3], [['c', 2, 3], [1, 2, 3], [1, 2, 3]]]\n",
      "made a deep copy [1, 2, 3, [1, 2, 3], [[1, 2, 3], [1, 2, 3], [1, 2, 3]]]\n"
     ]
    }
   ],
   "source": [
    "class RememberMe:\n",
    "    \n",
    "    def __init__(self):\n",
    "        pass\n",
    "           \n",
    "    def just_remember(self,o):\n",
    "        self.that_object = o\n",
    "\n",
    "    def copy_shallow(self,o):\n",
    "        self.list_shallow = o[:]\n",
    " \n",
    "    def copy_deep_aux(self,o):\n",
    "        # if o is a list\n",
    "        if isinstance(o,[].__class__):\n",
    "            # shallow copy the backbone\n",
    "            a = o[:]\n",
    "            for i, b in enumerate(a):\n",
    "                # and recurse on each element\n",
    "                a[i] = self.copy_deep_aux(b)\n",
    "            return a\n",
    "        else:\n",
    "            return o\n",
    "            \n",
    "    def copy_deep(self,o):\n",
    "        self.list_deep = self.copy_deep_aux(o)      \n",
    "        \n",
    "    def tell_all(self):\n",
    "        return (self.that_object,self.list_shallow,self.list_deep)\n",
    "\n",
    "test_list = [1,2,3,[1,2,3],[[1,2,3],[1,2,3],[1,2,3]]]\n",
    "\n",
    "r_m = RememberMe()\n",
    "r_m.just_remember(test_list)\n",
    "r_m.copy_shallow(test_list)\n",
    "r_m.copy_deep(test_list)\n",
    "\n",
    "test_list[0] = 'a'\n",
    "test_list[3][0] = 'b'\n",
    "test_list[4][0][0] = 'c'\n",
    "(a,b,c) = r_m.tell_all()\n",
    "print(\"saved the reference\", a)\n",
    "print(\"made a shallow copy\", b)\n",
    "print(\"made a deep copy\", c)\n"
   ]
  },
  {
   "cell_type": "markdown",
   "metadata": {},
   "source": [
    "#### Exercise\n",
    "\n",
    "How many perfect shuffles return a deck of cards to the original order. See Persi Diaconnis.\n",
    "\n"
   ]
  },
  {
   "cell_type": "code",
   "execution_count": 36,
   "metadata": {},
   "outputs": [
    {
     "name": "stdout",
     "output_type": "stream",
     "text": [
      "broken!\n"
     ]
    }
   ],
   "source": [
    "# fix my broken code\n",
    "\n",
    "def perfect_shuffle(deck):\n",
    "    return deck\n",
    "\n",
    "def n_perfect_shuffle(m):\n",
    "    \"\"\"\n",
    "    answers the question: how many perfect shuffles on\n",
    "    a deck of m cards returns the deck to the original order\n",
    "    \"\"\"\n",
    "    deck = [i for i in range(m)]\n",
    "    deck_org = deck[:]\n",
    "    count = 0\n",
    "    # a while loop until deck comes back to deck_org, perhaps?\n",
    "    return count\n",
    "    \n",
    "def test_perfect_shuffle():\n",
    "    ans = [0, 2, 4, 6, 1, 3, 5, 7]\n",
    "    if perfect_shuffle([i for i in range(8)]) != ans:\n",
    "        print(\"broken!\")\n",
    "        return\n",
    "    \n",
    "    # for a deck of 2^i cards, i perfect shuffles return the deck\n",
    "    j = 8\n",
    "    for i in range(3,6):\n",
    "        if n_perfect_shuffle(j)!=i:\n",
    "            print(\"broken!\")\n",
    "            return\n",
    "        j *= 2\n",
    "        \n",
    "    # how many perfects shuffles for an actual deck\n",
    "    if n_perfect_shuffle(52)!=8:\n",
    "        print(\"broken!\")\n",
    "    else:\n",
    "        print(\"correct!\")\n",
    "\n",
    "test_perfect_shuffle()"
   ]
  },
  {
   "cell_type": "code",
   "execution_count": null,
   "metadata": {},
   "outputs": [],
   "source": []
  }
 ],
 "metadata": {
  "kernelspec": {
   "display_name": "Python 3",
   "language": "python",
   "name": "python3"
  },
  "language_info": {
   "codemirror_mode": {
    "name": "ipython",
    "version": 3
   },
   "file_extension": ".py",
   "mimetype": "text/x-python",
   "name": "python",
   "nbconvert_exporter": "python",
   "pygments_lexer": "ipython3",
   "version": "3.7.3"
  }
 },
 "nbformat": 4,
 "nbformat_minor": 2
}
