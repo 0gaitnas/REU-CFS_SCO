{
 "cells": [
  {
   "cell_type": "markdown",
   "metadata": {},
   "source": [
    "## Python for REU 2019\n",
    "\n",
    "_Burt Rosenberg, 7 May 2019_\n",
    "\n",
    "\n",
    "### Various thing about lists\n",
    "\n"
   ]
  },
  {
   "cell_type": "markdown",
   "metadata": {},
   "source": [
    "The list is one of the most versatile datastructures. It models a sequence of items, which can be a mix of types.\n",
    "\n",
    "Items can be accessed through the index of the item on the list. The first item is at index 0. For a list L access the i-th item with square brackets: L[i]. The last item on the list is at index -1, and the previous to last, at -2, and so on.\n",
    "\n",
    "**Slices**\n",
    "\n",
    "Python supports the selection of multiple elements by index using *slice* notation. The full notation is [a:b:c] fo for a slace beginning at a, ending before b, advancing to include only every c-th element.\n",
    "\n",
    "Slice notation can appear on the right hand side of an assignment, to retrieve a slice of elements, or on the left hand side of an assignment, to receive a slice of elements.\n",
    "\n",
    "Leaving a location blank refers to the default:\n",
    "\n",
    "* the default for the start is the first item in the list\n",
    "* the default for the end is the list item in the list\n",
    "* the default for the skip is to take all items in the start-end range\n",
    "\n",
    "\n",
    "Here are some fun tricks with slices:"
   ]
  },
  {
   "cell_type": "code",
   "execution_count": 1,
   "metadata": {},
   "outputs": [
    {
     "name": "stdout",
     "output_type": "stream",
     "text": [
      "[0, 1, 2, 3, 4, 5, 6, 7, 8, 9]\n",
      "0 9\n",
      "[0, 2, 4, 6, 8]\n",
      "[9, 7, 5, 3, 1]\n",
      "[0, -1, -2, -3, -4, -5, -6, -7, -8, -9]\n",
      "[0, -1, 2, -3, 4, -5, 6, -7, 8, -9]\n",
      "[9, -1, 7, -3, 5, -5, 3, -7, 1, -9]\n",
      "[0, 1, 2, 3, 4, 5, 4, 3, 2, 1, 0]\n"
     ]
    }
   ],
   "source": [
    "def fun_slice():\n",
    "    \"\"\"\n",
    "    here are some fun slice tricks.\n",
    "    \"\"\"\n",
    "    a = [i for i in range(10)]\n",
    "    print(a)\n",
    "    print(a[0],a[-1])\n",
    "    print(a[::2])\n",
    "    print(a[::-2])\n",
    "\n",
    "    b = [-i for i in range(10)]\n",
    "    print(b)\n",
    "    b[::2] = a[::2]\n",
    "    print(b)\n",
    "    b[::2] = a[::-2]\n",
    "    print(b)\n",
    "    \n",
    "    a[len(a)//2:] = a[len(a)//2::-1]\n",
    "    print(a)\n",
    "    \n",
    "fun_slice()"
   ]
  },
  {
   "cell_type": "markdown",
   "metadata": {},
   "source": [
    "\n",
    "__Shallow Copies__\n",
    "\n",
    "There is an important difference between a slice of a list, and the list. A slice extracts values from the list and copies them over. \n",
    "\n",
    "We start with a simple example:"
   ]
  },
  {
   "cell_type": "code",
   "execution_count": 2,
   "metadata": {},
   "outputs": [
    {
     "name": "stdout",
     "output_type": "stream",
     "text": [
      "[9, 1, 7, 3, 5, 5, 3, 7, 1, 9]\n",
      "[9, 1, 7, 3, 5, 5, 3, 7, 1, 9]\n",
      "[0, 1, 2, 3, 4, 5, 6, 7, 8, 9]\n"
     ]
    }
   ],
   "source": [
    "a = [i for i in range(10)]\n",
    "b1 = a\n",
    "b2 = a[:]\n",
    "a[::2] = a[::-2]\n",
    "print(a)\n",
    "print(b1)\n",
    "print(b2)"
   ]
  },
  {
   "cell_type": "markdown",
   "metadata": {},
   "source": [
    "By using a slice to transfer values, the b2 array is not modified by changes in a, although b1 is. This is called a shallow copy, however, because changes in a can still change b2. If what is copied is a referene, rather than a value, changes in what the reference refers to is visible in the copy. For instance:"
   ]
  },
  {
   "cell_type": "code",
   "execution_count": 3,
   "metadata": {},
   "outputs": [
    {
     "name": "stdout",
     "output_type": "stream",
     "text": [
      "[[0], [-1], [-2], [-3], [-4], [-5], [-6], [-7], [-8], [-9]]\n",
      "[[0], [-1], [-2], [-3], [-4], [-5], [-6], [-7], [-8], [-9]]\n"
     ]
    }
   ],
   "source": [
    "a = [[i] for i in range(10)]\n",
    "b2 = a[:]\n",
    "for i in range(len(a)): a[i][0] = -a[i][0]\n",
    "print(a)\n",
    "print(b2)"
   ]
  },
  {
   "cell_type": "markdown",
   "metadata": {},
   "source": [
    "__Deep Copies__\n",
    "\n",
    "A *deep copy* would descend recursively into each list and use the slice notation (among other methods) to copy values rather than references. The more complicated RememberMe class summarizes this."
   ]
  },
  {
   "cell_type": "code",
   "execution_count": 4,
   "metadata": {},
   "outputs": [
    {
     "name": "stdout",
     "output_type": "stream",
     "text": [
      "saved the reference ['a', 2, 3, ['b', 2, 3], [['c', 2, 3], [1, 2, 3], [1, 2, 3]]]\n",
      "made a shallow copy [1, 2, 3, ['b', 2, 3], [['c', 2, 3], [1, 2, 3], [1, 2, 3]]]\n",
      "made a deep copy [1, 2, 3, [1, 2, 3], [[1, 2, 3], [1, 2, 3], [1, 2, 3]]]\n"
     ]
    }
   ],
   "source": [
    "class RememberMe:\n",
    "    \n",
    "    def __init__(self):\n",
    "        pass\n",
    "           \n",
    "    def just_remember(self,o):\n",
    "        self.that_object = o\n",
    "\n",
    "    def copy_shallow(self,o):\n",
    "        self.list_shallow = o[:]\n",
    " \n",
    "    def copy_deep_aux(self,o):\n",
    "        # if o is a list\n",
    "        if isinstance(o,[].__class__):\n",
    "            # shallow copy the backbone\n",
    "            a = o[:]\n",
    "            for i, b in enumerate(a):\n",
    "                # and recurse on each element\n",
    "                a[i] = self.copy_deep_aux(b)\n",
    "            return a\n",
    "        else:\n",
    "            return o\n",
    "            \n",
    "    def copy_deep(self,o):\n",
    "        self.list_deep = self.copy_deep_aux(o)      \n",
    "        \n",
    "    def tell_all(self):\n",
    "        return (self.that_object,self.list_shallow,self.list_deep)\n",
    "\n",
    "test_list = [1,2,3,[1,2,3],[[1,2,3],[1,2,3],[1,2,3]]]\n",
    "\n",
    "r_m = RememberMe()\n",
    "r_m.just_remember(test_list)\n",
    "r_m.copy_shallow(test_list)\n",
    "r_m.copy_deep(test_list)\n",
    "\n",
    "test_list[0] = 'a'\n",
    "test_list[3][0] = 'b'\n",
    "test_list[4][0][0] = 'c'\n",
    "(a,b,c) = r_m.tell_all()\n",
    "print(\"saved the reference\", a)\n",
    "print(\"made a shallow copy\", b)\n",
    "print(\"made a deep copy\", c)\n"
   ]
  },
  {
   "cell_type": "markdown",
   "metadata": {},
   "source": [
    "**Using a list as an iterator**\n",
    "\n",
    "A list is iterable, so it can be used in a for statment exactly in place of the range() function.\n",
    "\n",
    "It isn't exactly as if the list iterates, but that it wrap itself inside an iterator. If need be, you can explicitly implement to for loop by going from a list to an iterator with the iter function, then apply the next function to the iterator, and make sure that you catch the StopIteration exception.\n",
    "\n",
    "To go from an iterator to a list, use the list function."
   ]
  },
  {
   "cell_type": "code",
   "execution_count": 38,
   "metadata": {},
   "outputs": [
    {
     "name": "stdout",
     "output_type": "stream",
     "text": [
      "0\n",
      "1\n",
      "2\n",
      "3\n",
      "4\n",
      "5\n",
      "6\n",
      "7\n",
      "8\n",
      "9\n",
      "0\n",
      "1\n",
      "2\n",
      "3\n",
      "4\n",
      "5\n",
      "6\n",
      "7\n",
      "8\n",
      "9\n",
      "[0, 1, 2, 3, 4, 5, 6, 7, 8, 9]\n"
     ]
    }
   ],
   "source": [
    "a_l = [i for i in range(10)]\n",
    "for e in a_l:\n",
    "    print(e)\n",
    "\n",
    "a_l_itr = iter(a_l)\n",
    "try:\n",
    "    while True:\n",
    "        print(next(a_l_itr))\n",
    "except StopIteration:\n",
    "    pass\n",
    "\n",
    "a_l_itr = iter(a_l)\n",
    "print(list(a_l_itr))"
   ]
  },
  {
   "cell_type": "markdown",
   "metadata": {},
   "source": [
    "\n",
    "### A few list functions, briefly"
   ]
  },
  {
   "cell_type": "code",
   "execution_count": 41,
   "metadata": {},
   "outputs": [
    {
     "name": "stdout",
     "output_type": "stream",
     "text": [
      "min 1 max 9\n",
      "[3, 6, 9, 1, 2, 7, 13]\n",
      "1\n",
      "wasn't there\n",
      "[1, 2, 3]\n",
      "wasn't there\n"
     ]
    }
   ],
   "source": [
    "l = [3,6,9,1,2,7]\n",
    "\n",
    "# min\n",
    "print(\"min\",min(l),\"max\",max(l))\n",
    "\n",
    "#append\n",
    "l.append(13)\n",
    "print(l)\n",
    "\n",
    "try:\n",
    "    print([1,2,3].index(2))\n",
    "    [1,2,3].index(4)\n",
    "except ValueError:\n",
    "    print(\"wasn't there\")\n",
    "    \n",
    "try:\n",
    "    l = [1,2,2,3]\n",
    "    l.remove(2)\n",
    "    print(l)\n",
    "    [1,2,3].remove(4)\n",
    "except ValueError:\n",
    "    print(\"wasn't there\")\n"
   ]
  },
  {
   "cell_type": "markdown",
   "metadata": {},
   "source": [
    "### Exercise: Selection Sort\n",
    "\n",
    "Please write a selection sort, which works inplace &mdash; the numbers are rearranged in the same array, not copied to a new array. \n",
    "\n",
    "The helpful loop invariant is that the loop begins with i indexing the next location to be finalized, beginning with i = 0; and the value to place in location i is found among locations j>=i. If the value to put in location i comes from location j, swap values between locations i and j.\n"
   ]
  },
  {
   "cell_type": "code",
   "execution_count": 5,
   "metadata": {},
   "outputs": [
    {
     "name": "stdout",
     "output_type": "stream",
     "text": [
      "correct!\n"
     ]
    }
   ],
   "source": [
    "\n",
    "# fix my broken code\n",
    "\n",
    "def selection_sort(a):\n",
    "    \"\"\"\n",
    "    selection sort the list a\n",
    "    \"\"\"\n",
    "    for i in range(len(a)-1):\n",
    "        # i is where to place the smallest number amount [i:]\n",
    "        pass\n",
    "    return a\n",
    "\n",
    "def test_selection_sort():\n",
    "    test = [(13*i)%97 for i in range(84)]\n",
    "    ans = sorted(test[:])\n",
    "    selection_sort(test)\n",
    "    if test == ans:\n",
    "        print(\"correct!\")\n",
    "    else:\n",
    "        print(\"broken!\")   \n",
    "\n",
    "test_selection_sort()"
   ]
  },
  {
   "cell_type": "markdown",
   "metadata": {},
   "source": [
    "### Exercise: Insertion Sort\n",
    "\n",
    "Please write an insertion sort. The sort by its nature works in-place &mdash; the values are moved around the array, not copied off to a new array.\n",
    "\n",
    "The Loop Invariant is that at the top of the loop, location i is considered for swapping with location i+1, to bring the smaller value to location i. Additionally j is set initially to i and the inner loop invariant "
   ]
  },
  {
   "cell_type": "code",
   "execution_count": 6,
   "metadata": {},
   "outputs": [
    {
     "name": "stdout",
     "output_type": "stream",
     "text": [
      "correct!\n"
     ]
    }
   ],
   "source": [
    "#fix my broken code\n",
    "\n",
    "def insertion_sort(c):\n",
    "    if len(c)== 0 : return c\n",
    "    \n",
    "    for i in range(len(c)-1):\n",
    "        for j in range(i,-1,-1):\n",
    "            pass\n",
    "    return c\n",
    "\n",
    "def test_insertion_sort():\n",
    "    test = [(13*i)%97 for i in range(84)]\n",
    "    ans = sorted(test[:])\n",
    "    insertion_sort(test)\n",
    "    if test == ans:\n",
    "        print(\"correct!\")\n",
    "    else:\n",
    "        print(\"broken!\")   \n",
    "\n",
    "test_insertion_sort()"
   ]
  },
  {
   "cell_type": "code",
   "execution_count": null,
   "metadata": {},
   "outputs": [],
   "source": []
  }
 ],
 "metadata": {
  "kernelspec": {
   "display_name": "Python 3",
   "language": "python",
   "name": "python3"
  },
  "language_info": {
   "codemirror_mode": {
    "name": "ipython",
    "version": 3
   },
   "file_extension": ".py",
   "mimetype": "text/x-python",
   "name": "python",
   "nbconvert_exporter": "python",
   "pygments_lexer": "ipython3",
   "version": "3.7.3"
  }
 },
 "nbformat": 4,
 "nbformat_minor": 2
}
