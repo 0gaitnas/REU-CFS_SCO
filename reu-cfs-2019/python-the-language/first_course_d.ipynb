{
 "cells": [
  {
   "cell_type": "markdown",
   "metadata": {},
   "source": [
    "## Python for REU 2019\n",
    "\n",
    "_Burt Rosenberg, 12 May 2019_\n",
    "\n",
    "\n",
    "### Various thing about lists\n",
    "\n"
   ]
  },
  {
   "cell_type": "markdown",
   "metadata": {},
   "source": [
    "The list is one of the most versatile datastructures. It models a sequence of items, which can be a mix of types.\n",
    "\n",
    "Items can be accessed through the index of the item on the list. The first item is at index 0. For a list L access the i-th item with square brackets: L[i]. The last item on the list is at index -1, and the previous to last, at -2, and so on.\n",
    "\n",
    "**Slices**\n",
    "\n",
    "Python supports the selection of multiple elements by index using *slice* notation. The full notation is [a:b:c] fo for a slace beginning at a, ending before b, advancing to include only every c-th element.\n",
    "\n",
    "Slice notation can appear on the right hand side of an assignment, to retrieve a slice of elements, or on the left hand side of an assignment, to receive a slice of elements.\n",
    "\n",
    "Leaving a location blank refers to the default (but see the discussion below on negative skips):\n",
    "\n",
    "* the default for the start is the first item in the list\n",
    "* the default for the end is the list item in the list\n",
    "* the default for the skip is to take all items in the start-end range\n",
    "\n",
    "\n",
    "Here are some fun tricks with slices:"
   ]
  },
  {
   "cell_type": "code",
   "execution_count": 37,
   "metadata": {},
   "outputs": [
    {
     "name": "stdout",
     "output_type": "stream",
     "text": [
      "[0, 1, 2, 3, 4, 5, 6, 7, 8, 9]\n",
      "0 9\n",
      "[0, 2, 4, 6, 8]\n",
      "[9, 7, 5, 3, 1]\n",
      "[0, -1, -2, -3, -4, -5, -6, -7, -8, -9]\n",
      "[0, -1, 2, -3, 4, -5, 6, -7, 8, -9]\n",
      "[9, -1, 7, -3, 5, -5, 3, -7, 1, -9]\n",
      "[0, 1, 2, 3, 4, 5, 4, 3, 2, 1, 0]\n"
     ]
    }
   ],
   "source": [
    "def fun_slice():\n",
    "    \"\"\"\n",
    "    here are some fun slice tricks.\n",
    "    \"\"\"\n",
    "    a = [i for i in range(10)]\n",
    "    print(a)\n",
    "    print(a[0],a[-1])\n",
    "    print(a[::2])\n",
    "    print(a[::-2])\n",
    "\n",
    "    b = [-i for i in range(10)]\n",
    "    print(b)\n",
    "    b[::2] = a[::2]\n",
    "    print(b)\n",
    "    b[::2] = a[::-2]\n",
    "    print(b)\n",
    "    \n",
    "    a[len(a)//2:] = a[len(a)//2::-1]\n",
    "    print(a)\n",
    "    \n",
    "fun_slice()"
   ]
  },
  {
   "cell_type": "markdown",
   "metadata": {},
   "source": [
    "__Shallow Copies__\n",
    "\n",
    "There is an important difference between a slice of a list, and the list. A slice extracts values from the list and copies them over. \n",
    "\n",
    "We start with a simple example:"
   ]
  },
  {
   "cell_type": "code",
   "execution_count": 3,
   "metadata": {},
   "outputs": [
    {
     "name": "stdout",
     "output_type": "stream",
     "text": [
      "[9, 1, 7, 3, 5, 5, 3, 7, 1, 9]\n",
      "[9, 1, 7, 3, 5, 5, 3, 7, 1, 9]\n",
      "[0, 1, 2, 3, 4, 5, 6, 7, 8, 9]\n"
     ]
    }
   ],
   "source": [
    "a = [i for i in range(10)]\n",
    "b1 = a\n",
    "b2 = a[:]\n",
    "a[::2] = a[::-2]\n",
    "print(a)\n",
    "print(b1)\n",
    "print(b2)"
   ]
  },
  {
   "cell_type": "markdown",
   "metadata": {},
   "source": [
    "By using a slice to transfer values, the b2 array is not modified by changes in a, although b1 is. This is called a shallow copy, however, because changes in a can still change b2. If what is copied is a referene, rather than a value, changes in what the reference refers to is visible in the copy. For instance:"
   ]
  },
  {
   "cell_type": "code",
   "execution_count": 39,
   "metadata": {},
   "outputs": [
    {
     "name": "stdout",
     "output_type": "stream",
     "text": [
      "[[0], [-1], [-2], [-3], [-4], [-5], [-6], [-7], [-8], [-9]]\n",
      "[[0], [-1], [-2], [-3], [-4], [-5], [-6], [-7], [-8], [-9]]\n"
     ]
    }
   ],
   "source": [
    "a = [[i] for i in range(10)]\n",
    "b2 = a[:]\n",
    "for i in range(len(a)): a[i][0] = -a[i][0]\n",
    "print(a)\n",
    "print(b2)"
   ]
  },
  {
   "cell_type": "markdown",
   "metadata": {},
   "source": [
    "__Deep Copies__\n",
    "\n",
    "A *deep copy* would descend recursively into each list and use the slice notation (among other methods) to copy values rather than references. The more complicated RememberMe class summarizes this."
   ]
  },
  {
   "cell_type": "code",
   "execution_count": 40,
   "metadata": {},
   "outputs": [
    {
     "name": "stdout",
     "output_type": "stream",
     "text": [
      "saved the reference ['a', 2, 3, ['b', 2, 3], [['c', 2, 3], [1, 2, 3], [1, 2, 3]]]\n",
      "made a shallow copy [1, 2, 3, ['b', 2, 3], [['c', 2, 3], [1, 2, 3], [1, 2, 3]]]\n",
      "made a deep copy [1, 2, 3, [1, 2, 3], [[1, 2, 3], [1, 2, 3], [1, 2, 3]]]\n"
     ]
    }
   ],
   "source": [
    "class RememberMe:\n",
    "    \n",
    "    def __init__(self):\n",
    "        pass\n",
    "           \n",
    "    def just_remember(self,o):\n",
    "        self.that_object = o\n",
    "\n",
    "    def copy_shallow(self,o):\n",
    "        self.list_shallow = o[:]\n",
    " \n",
    "    def copy_deep_aux(self,o):\n",
    "        # if o is a list\n",
    "        if isinstance(o,[].__class__):\n",
    "            # shallow copy the backbone\n",
    "            a = o[:]\n",
    "            for i, b in enumerate(a):\n",
    "                # and recurse on each element\n",
    "                a[i] = self.copy_deep_aux(b)\n",
    "            return a\n",
    "        else:\n",
    "            return o\n",
    "            \n",
    "    def copy_deep(self,o):\n",
    "        self.list_deep = self.copy_deep_aux(o)      \n",
    "        \n",
    "    def tell_all(self):\n",
    "        return (self.that_object,self.list_shallow,self.list_deep)\n",
    "\n",
    "test_list = [1,2,3,[1,2,3],[[1,2,3],[1,2,3],[1,2,3]]]\n",
    "\n",
    "r_m = RememberMe()\n",
    "r_m.just_remember(test_list)\n",
    "r_m.copy_shallow(test_list)\n",
    "r_m.copy_deep(test_list)\n",
    "\n",
    "test_list[0] = 'a'\n",
    "test_list[3][0] = 'b'\n",
    "test_list[4][0][0] = 'c'\n",
    "(a,b,c) = r_m.tell_all()\n",
    "print(\"saved the reference\", a)\n",
    "print(\"made a shallow copy\", b)\n",
    "print(\"made a deep copy\", c)\n"
   ]
  },
  {
   "cell_type": "markdown",
   "metadata": {},
   "source": [
    "__Slices with negative skip__\n",
    "\n",
    "When slicing with a negative skip, the inclusion intervale changes polarity as well. The first in the colon separated triple is still the start index, and the second still indicates where the stop, but the slice will stop at one more than that value. Again, the interval goes until one before the ending index, but when descending \"one before\" is interpreted as ending index plus one, rather than minus one.\n",
    "\n",
    "This is a good convention as it allows slices to concatenate without much math. For instance:\n",
    "\n",
    "> a[:] = a[:i] + a[i:]\n",
    "\n",
    "\n",
    "There are a couple subtilties in leaving one of the slice components empty. In fact, leaving it empty places in the component the value None.\n",
    "\n",
    ">_None_ is a Python keyword that is the value, and only value, of the NoneType.\n",
    "\n",
    "When None is in the start position, or the position is left empty, it means 0 for positive skip and -1 for negative skip. For the end position it means -1 for positive skip, but can not possibly mean any integer for a negative skip, and is the unique way to include the start of the array in this situation. Hence, the slice convention as two subtleties,\n",
    "\n",
    "* None means different things according to skip direction\n",
    "* None can address the beginning of the array in case of negative skip\n"
   ]
  },
  {
   "cell_type": "code",
   "execution_count": 19,
   "metadata": {},
   "outputs": [
    {
     "name": "stdout",
     "output_type": "stream",
     "text": [
      "[5, 4]\n",
      "[9, 8, 7, 6, 5, 4]\n",
      "[9, 8, 7, 6, 5, 4]\n",
      "assertion passed!\n",
      "[1, 0, 2, 3, 4]\n",
      "[1, 2, 0, 3, 4]\n",
      "[1, 2, 3, 0, 4]\n",
      "[1, 2, 3, 4, 0]\n",
      "[1, 2, 3, 4, 0]\n",
      "NoneType\n"
     ]
    }
   ],
   "source": [
    "test = [i for i in range(10)]\n",
    "\n",
    "print(test[5:3:-1])\n",
    "print(test[len(test):3:-1])\n",
    "print(test[:3:-1])\n",
    "\n",
    "# the reason for the \"until before final\" convention.\n",
    "# it gives this simple equation:\n",
    "\n",
    "test_glue = test[:len(test)//2] + test[len(test)//2:]\n",
    "assert test == test_glue\n",
    "print(\"assertion passed!\")\n",
    "\n",
    "def swap_at(a,i):\n",
    "    \"\"\"\n",
    "    swaps a[i] and a[i+1]\n",
    "    \"\"\"\n",
    "    j = i-1 if i>0 else None\n",
    "    a[i:i+2] = a[i+1:j:-1]\n",
    "\n",
    "\n",
    "def test_swap_at(n):\n",
    "    test = [i for i in range(n)]\n",
    "    for i in range(n):\n",
    "        swap_at(test,i)\n",
    "        print(test)\n",
    "test_swap_at(5)\n",
    "\n",
    "\n",
    "print(None.__class__.__name__)\n"
   ]
  },
  {
   "cell_type": "markdown",
   "metadata": {},
   "source": [
    "**Using a list as an iterator**\n",
    "\n",
    "A list is iterable, so it can be used in a for statment exactly in place of the range() function.\n",
    "\n",
    "It isn't exactly as if the list iterates, but that it wrap itself inside an iterator. If need be, you can explicitly implement to for loop by going from a list to an iterator with the iter function, then apply the next function to the iterator, and make sure that you catch the StopIteration exception.\n",
    "\n",
    "To go from an iterator to a list, use the list function."
   ]
  },
  {
   "cell_type": "code",
   "execution_count": 41,
   "metadata": {},
   "outputs": [
    {
     "name": "stdout",
     "output_type": "stream",
     "text": [
      "0\n",
      "1\n",
      "2\n",
      "3\n",
      "4\n",
      "5\n",
      "6\n",
      "7\n",
      "8\n",
      "9\n",
      "0\n",
      "1\n",
      "2\n",
      "3\n",
      "4\n",
      "5\n",
      "6\n",
      "7\n",
      "8\n",
      "9\n",
      "[0, 1, 2, 3, 4, 5, 6, 7, 8, 9]\n"
     ]
    }
   ],
   "source": [
    "a_l = [i for i in range(10)]\n",
    "for e in a_l:\n",
    "    print(e)\n",
    "\n",
    "a_l_itr = iter(a_l)\n",
    "try:\n",
    "    while True:\n",
    "        print(next(a_l_itr))\n",
    "except StopIteration:\n",
    "    pass\n",
    "\n",
    "a_l_itr = iter(a_l)\n",
    "print(list(a_l_itr))"
   ]
  },
  {
   "cell_type": "markdown",
   "metadata": {},
   "source": [
    "__some other list functions__\n",
    "\n",
    "To find out more about list functions, look for the Python builtins \n",
    "\n",
    "* https://docs.python.org/3/library/functions.html \n",
    "\n",
    "and the list methods \n",
    "\n",
    "* https://docs.python.org/3/tutorial/datastructures.html\n",
    "\n",
    "in the documentation. Some functions are both: sorted() is a builtin function and list.sorted() is a list method.\n"
   ]
  },
  {
   "cell_type": "code",
   "execution_count": 42,
   "metadata": {},
   "outputs": [
    {
     "name": "stdout",
     "output_type": "stream",
     "text": [
      "min 1 max 9\n",
      "[3, 6, 9, 1, 2, 7, 13]\n",
      "1\n",
      "wasn't there\n",
      "[1, 2, 3]\n",
      "wasn't there\n"
     ]
    }
   ],
   "source": [
    "l = [3,6,9,1,2,7]\n",
    "\n",
    "# min\n",
    "print(\"min\",min(l),\"max\",max(l))\n",
    "\n",
    "#append\n",
    "l.append(13)\n",
    "print(l)\n",
    "\n",
    "try:\n",
    "    print([1,2,3].index(2))\n",
    "    [1,2,3].index(4)\n",
    "except ValueError:\n",
    "    print(\"wasn't there\")\n",
    "    \n",
    "try:\n",
    "    l = [1,2,2,3]\n",
    "    l.remove(2)\n",
    "    print(l)\n",
    "    [1,2,3].remove(4)\n",
    "except ValueError:\n",
    "    print(\"wasn't there\")\n"
   ]
  },
  {
   "cell_type": "markdown",
   "metadata": {},
   "source": [
    "### Exercise\n",
    "\n",
    "A perfect shuffle is when the cards during a shuffle alternate perfectly: one from the left hand, one from the right hand, one from the left hand, and so on. Only a magician can perform a perfect shuffle, it requires such slight of hand. And only a mathematician can wonder what are the properties of a perfect shuffle? Does it, for instance, return the deck back to the original order after a certain, perhaps small, number of shuffles\n",
    "\n",
    "The question was considered by someone who is both a mathematician and a magicina, Persi Diaconns.\n",
    "\n",
    "In this exercise in slices, we will simulate a perfect shuffle and answer the question of how many perfect shuffles return the deck to the original order. The trick to the problem is to work backwards. Rather than considering a shuffle, simulate the un-shuffle, which would alternately take cards backwards from the finished shuffle, and stack the two halves and a backward cut."
   ]
  },
  {
   "cell_type": "code",
   "execution_count": 43,
   "metadata": {},
   "outputs": [
    {
     "name": "stdout",
     "output_type": "stream",
     "text": [
      "broken!\n"
     ]
    }
   ],
   "source": [
    "# fix my broken code\n",
    "\n",
    "def perfect_shuffle(deck):\n",
    "    return deck\n",
    "\n",
    "def n_perfect_shuffle(m):\n",
    "    \"\"\"\n",
    "    answers the question: how many perfect shuffles on\n",
    "    a deck of m cards returns the deck to the original order\n",
    "    \"\"\"\n",
    "    deck = [i for i in range(m)]\n",
    "    deck_org = deck[:]\n",
    "    count = 0\n",
    "    # a while loop until deck comes back to deck_org, perhaps?\n",
    "    return count\n",
    "    \n",
    "def test_perfect_shuffle():\n",
    "    ans = [0, 2, 4, 6, 1, 3, 5, 7]\n",
    "    if perfect_shuffle([i for i in range(8)]) != ans:\n",
    "        print(\"broken!\")\n",
    "        return\n",
    "    \n",
    "    # for a deck of 2^i cards, i perfect shuffles return the deck\n",
    "    j = 8\n",
    "    for i in range(3,6):\n",
    "        if n_perfect_shuffle(j)!=i:\n",
    "            print(\"broken!\")\n",
    "            return\n",
    "        j *= 2\n",
    "        \n",
    "    # how many perfects shuffles for an actual deck\n",
    "    if n_perfect_shuffle(52)!=8:\n",
    "        print(\"broken!\")\n",
    "    else:\n",
    "        print(\"correct!\")\n",
    "\n",
    "test_perfect_shuffle()"
   ]
  },
  {
   "cell_type": "markdown",
   "metadata": {},
   "source": [
    "__Challenge problem__ \n",
    "\n",
    "Smug the dragon is clever enough to use his tail for a 3 hand perfect shuffle. What are the results for this shuffle?\n"
   ]
  },
  {
   "cell_type": "code",
   "execution_count": null,
   "metadata": {},
   "outputs": [],
   "source": []
  }
 ],
 "metadata": {
  "kernelspec": {
   "display_name": "Python 3",
   "language": "python",
   "name": "python3"
  },
  "language_info": {
   "codemirror_mode": {
    "name": "ipython",
    "version": 3
   },
   "file_extension": ".py",
   "mimetype": "text/x-python",
   "name": "python",
   "nbconvert_exporter": "python",
   "pygments_lexer": "ipython3",
   "version": "3.6.4"
  }
 },
 "nbformat": 4,
 "nbformat_minor": 2
}
